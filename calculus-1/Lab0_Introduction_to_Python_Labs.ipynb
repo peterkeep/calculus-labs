{
  "nbformat": 4,
  "nbformat_minor": 0,
  "metadata": {
    "kernel_info": {
      "name": "python3"
    },
    "language_info": {
      "name": "python"
    },
    "colab": {
      "name": "Lab0_Introduction_to_Python_Labs.ipynb",
      "provenance": [],
      "collapsed_sections": [],
      "include_colab_link": true
    }
  },
  "cells": [
    {
      "cell_type": "markdown",
      "metadata": {
        "id": "view-in-github",
        "colab_type": "text"
      },
      "source": [
        "<a href=\"https://colab.research.google.com/github/peterkeep/calculus-labs/blob/master/calculus-1/Lab0_Introduction_to_Python_Labs.ipynb\" target=\"_parent\"><img src=\"https://colab.research.google.com/assets/colab-badge.svg\" alt=\"Open In Colab\"/></a>"
      ]
    },
    {
      "cell_type": "markdown",
      "metadata": {
        "format": "text/markdown",
        "id": "AcLO1KvH99u7"
      },
      "source": [
        "Lab 0: Introduction to Python Labs\n",
        "==================================\n",
        "\n",
        "**Name:**\n",
        "\n",
        "**Due Date:** \n",
        "\n",
        "# Instructions\n",
        "\n",
        "This lab will serve as an introduction to exploring calculus concepts using the programming language `python`, as well as the process of completing a lab in this course. This will not be an exhaustive introduction to programming: we'll only investigate the features and functions that will serve us directly in the concepts we'll be talking about in this course.\n",
        "\n",
        "This lab will not go over features of the online notebook editor Google Colab: there should be an introductory video on the course Canvas site with some basic instructions on how to use the editor.\n",
        "\n",
        "Your task in this lab is to follow the Leading Examples, and complete the Your Turn sections, where you will write similar code to perform similar functions. There will also be Follow-Up Questions: you can answer these by typing your answers under each question.\n",
        "\n",
        "Type your name and due date on the top of this lab.\n",
        "\n",
        "Submit the file on Canvas through the assignment submission for Lab 0.\n",
        "\n",
        "# Leading Examples\n",
        "\n",
        "In these examples, we'll walk through some basic syntax for tasks we'd like to do:\n",
        "\n",
        "- perform operations (addition, subtraction, etc.)\n",
        "- creating and using variables.\n",
        "- create and use functions.\n",
        "- graph functions.\n",
        "\n",
        "**Make sure to run every block of example code in order to see how it works and get a feel for some of the differences in syntax.**\n",
        "\n",
        "## Operations\n",
        "\n",
        "We can perform some basic operations pretty easily in python, using the kind of syntax you would expect. Run the following block/cell:\n",
        "\n"
      ]
    },
    {
      "cell_type": "code",
      "metadata": {
        "autoscroll": "auto",
        "options": {
          "caption": false,
          "complete": true,
          "display_data": true,
          "display_stream": true,
          "dpi": 200,
          "echo": true,
          "evaluate": false,
          "f_env": null,
          "f_pos": "htpb",
          "f_size": [
            6,
            4
          ],
          "f_spines": true,
          "fig": true,
          "include": true,
          "name": null,
          "option_string": "evaluate = False",
          "results": "verbatim",
          "term": false,
          "wrap": "output"
        },
        "id": "QglL1MSQ99u_"
      },
      "source": [
        "5+3\n",
        "7-2\n",
        "3*3-8\n",
        "5/3"
      ],
      "execution_count": null,
      "outputs": []
    },
    {
      "cell_type": "markdown",
      "metadata": {
        "format": "text/markdown",
        "id": "sW_wVodr99vQ"
      },
      "source": [
        "You likely notice that only the last value was returned: that's because python does not, as a rule, display anything specifically without being told to. So we will need to explicitly tell python to display these computations using the `print()` command:\n",
        "\n"
      ]
    },
    {
      "cell_type": "code",
      "metadata": {
        "autoscroll": "auto",
        "options": {
          "caption": false,
          "complete": true,
          "display_data": true,
          "display_stream": true,
          "dpi": 200,
          "echo": true,
          "evaluate": false,
          "f_env": null,
          "f_pos": "htpb",
          "f_size": [
            6,
            4
          ],
          "f_spines": true,
          "fig": true,
          "include": true,
          "name": null,
          "option_string": "evaluate = False",
          "results": "verbatim",
          "term": false,
          "wrap": "output"
        },
        "id": "bj_EV3rz99vU"
      },
      "source": [
        "print(5+3)\n",
        "print(7-2)\n",
        "print(3*3-8)\n",
        "print(5/3)"
      ],
      "execution_count": null,
      "outputs": []
    },
    {
      "cell_type": "markdown",
      "metadata": {
        "format": "text/markdown",
        "id": "b4FOo51e99ve"
      },
      "source": [
        "In these notebooks, typically the last or most current computation will be printed as a default, but if you want to have more than one thing displayed in a single chunk of code, we'll need to use the `print()` function.\n",
        "\n",
        "***NOTE:*** Sometimes division can get wonky in python: in some instances (mainly in python2), the code `5/3` would return `1`. Python thinks that by dividing strictly integer values, that we mean to use the floor-division function, which essentially just rounds the answer down to an integer (and disregards the remainder). This has to do with value classifications, and is best left up to a Computer Science instructor to explain clearly. If we were to use python2, we could be careful with division by using `5.0` instead of `5` to tell python that we're ok with decimals (or \"floating point numbers\"). The division operator `//` returns the integer solution, in case we want that for some reason. The notebooks on Google Colab use python3, so this shouldn't be an issue, since it treats `/` as what we would think of as normal division.\n",
        "\n",
        "Some other operations can get a bit trickier in terms of syntax. Let's look at exponents and roots. For exponents, we'll need to use the `**` operation: so $3^5$ is written as `3**5`. For roots, it's easiest to just use rational exponents: $\\sqrt{4}$ can be written as $4^{1/2}$, so we'll use `4**(1/2)`.\n",
        "\n"
      ]
    },
    {
      "cell_type": "code",
      "metadata": {
        "autoscroll": "auto",
        "options": {
          "caption": false,
          "complete": true,
          "display_data": true,
          "display_stream": true,
          "dpi": 200,
          "echo": true,
          "evaluate": false,
          "f_env": null,
          "f_pos": "htpb",
          "f_size": [
            6,
            4
          ],
          "f_spines": true,
          "fig": true,
          "include": true,
          "name": null,
          "option_string": "evaluate = False",
          "results": "verbatim",
          "term": false,
          "wrap": "output"
        },
        "id": "Y9MO_ivL99vg"
      },
      "source": [
        "print(3**5)\n",
        "print(4**(1/2))"
      ],
      "execution_count": null,
      "outputs": []
    },
    {
      "cell_type": "markdown",
      "metadata": {
        "format": "text/markdown",
        "id": "hXLzEibm99vv"
      },
      "source": [
        "We can use roots explicitly by loading a package called `numpy`: this is a library of common functions that we'll use a lot in this course. We'll load the library using the code `import numpy as np`, which will allow us to access functions like the square root funtion by using the prefix `np.` on them. This package can also be used to access logarithms, the number $\\pi$, trigonometric functions, etc.\n",
        "\n"
      ]
    },
    {
      "cell_type": "code",
      "metadata": {
        "autoscroll": "auto",
        "options": {
          "caption": false,
          "complete": true,
          "display_data": true,
          "display_stream": true,
          "dpi": 200,
          "echo": true,
          "evaluate": false,
          "f_env": null,
          "f_pos": "htpb",
          "f_size": [
            6,
            4
          ],
          "f_spines": true,
          "fig": true,
          "include": true,
          "name": null,
          "option_string": "evaluate = False",
          "results": "verbatim",
          "term": false,
          "wrap": "output"
        },
        "id": "mAIXLlk499vx"
      },
      "source": [
        "import numpy as np\n",
        "print(np.sqrt(4))\n",
        "print(np.log(7)) # this is ln(7)\n",
        "print(np.e**np.log(7))\n",
        "print(np.sin(np.pi/4))\n",
        "print(np.sqrt(2)/2)"
      ],
      "execution_count": null,
      "outputs": []
    },
    {
      "cell_type": "markdown",
      "metadata": {
        "format": "text/markdown",
        "id": "oTPj-6ou99v4"
      },
      "source": [
        "Notice something weird: when we evaluated $e^{\\ln(7)}$, that should have been 7: instead, we get something with a small bit of error. Python is using (very good) approximations of this logarithm, which introduces some error.\n",
        "## Variables\n",
        "\n",
        "It will be useful to create and store variables in python, and then use those variables in computations: this will allow us to re-create formulas easily, which will be helpful for us this semester.\n",
        "\n",
        "For instance, we can imagine some sort of rectangular box with dimensions $2\\times5\\times4$. If we store these as length, width, and height, we can easily find volume and surface are using our regular formulas. I'll also include a comment using the `#` symbol: this will allow me to add some organization, labels, and comments that won't be treated as code.\n",
        "\n"
      ]
    },
    {
      "cell_type": "code",
      "metadata": {
        "autoscroll": "auto",
        "options": {
          "caption": false,
          "complete": true,
          "display_data": true,
          "display_stream": true,
          "dpi": 200,
          "echo": true,
          "evaluate": false,
          "f_env": null,
          "f_pos": "htpb",
          "f_size": [
            6,
            4
          ],
          "f_spines": true,
          "fig": true,
          "include": true,
          "name": null,
          "option_string": "evaluate = False",
          "results": "verbatim",
          "term": false,
          "wrap": "output"
        },
        "id": "qjGoMgiN99v6"
      },
      "source": [
        "l = 2\n",
        "w = 5\n",
        "h = 4\n",
        "\n",
        "# VOLUME\n",
        "volume = l*w*h\n",
        "print(volume)\n",
        "\n",
        "# SURFACE AREA\n",
        "area = 2*l*w + 2*w*h + 2*l*h\n",
        "print(area)\n",
        "\n",
        "# RATIO OF SURFACE AREA TO VOLUME\n",
        "print(volume/area)"
      ],
      "execution_count": null,
      "outputs": []
    },
    {
      "cell_type": "markdown",
      "metadata": {
        "format": "text/markdown",
        "id": "DjUxvP6w99wD"
      },
      "source": [
        "If we wanted to repeat these calculations for some other rectangular box with different dimensions, we'd need to copy-paste the whole chunk of code, but change the values of `l`, `w`, `h`. If we needed to repeat these calculations and didn't want to copy-paste the same code over and over again, we could instead define some functions.\n",
        "## Functions\n",
        "\n",
        "Obviously we're going to work with functions pretty regularly. We'll start with defining a function, and evaluating that function at single $x$-values. Then we'll look at some basic things that we can do with those functions, and eventually extend that to graphing the functions.\n",
        "\n",
        "We'll define functions in python using the `def` command. We'll give our function a name, and specify what the input variable is. In mathematics, our functions are normally named $f$ or $g$, and our input variable is likely $x$, but we can be more flexible with our naming here. To define the output, we'll need to use the `return` command: this tells python what the function should actually spit out. Below, we can define the function $f(x) = x^2-1$, $g(\\theta) = \\theta\\cos(\\theta)$, and a function that gives us the surface area of a box with dimensions $\\ell, w, h$.\n",
        "\n"
      ]
    },
    {
      "cell_type": "code",
      "metadata": {
        "autoscroll": "auto",
        "options": {
          "caption": false,
          "complete": true,
          "display_data": true,
          "display_stream": true,
          "dpi": 200,
          "echo": true,
          "evaluate": false,
          "f_env": null,
          "f_pos": "htpb",
          "f_size": [
            6,
            4
          ],
          "f_spines": true,
          "fig": true,
          "include": true,
          "name": null,
          "option_string": "evaluate = False",
          "results": "verbatim",
          "term": false,
          "wrap": "output"
        },
        "id": "D39kFN0399wF"
      },
      "source": [
        "def f(x):\n",
        "  return x**2-1\n",
        "\n",
        "def g(theta):\n",
        "  return theta*np.cos(theta)\n",
        "\n",
        "def area(l,w,h):\n",
        "  return 2*l*w + 2*l*h + 2*w*h"
      ],
      "execution_count": null,
      "outputs": []
    },
    {
      "cell_type": "markdown",
      "metadata": {
        "format": "text/markdown",
        "id": "go2Xei0W99wL"
      },
      "source": [
        "Now let's evaluate them. We'll evaluate $f(0)$, $f(-4)$, $g(\\pi)$, $g(\\pi/6)$, and $\\mbox{area}(2,5,4)$:\n",
        "\n"
      ]
    },
    {
      "cell_type": "code",
      "metadata": {
        "autoscroll": "auto",
        "options": {
          "caption": false,
          "complete": true,
          "display_data": true,
          "display_stream": true,
          "dpi": 200,
          "echo": true,
          "evaluate": false,
          "f_env": null,
          "f_pos": "htpb",
          "f_size": [
            6,
            4
          ],
          "f_spines": true,
          "fig": true,
          "include": true,
          "name": null,
          "option_string": "evaluate = False",
          "results": "verbatim",
          "term": false,
          "wrap": "output"
        },
        "id": "Ev8uSoYo99wN"
      },
      "source": [
        "print(f(0), f(-4))\n",
        "print(g(np.pi), g(np.pi/6))\n",
        "print(area(2,5,4))"
      ],
      "execution_count": null,
      "outputs": []
    },
    {
      "cell_type": "markdown",
      "metadata": {
        "format": "text/markdown",
        "id": "u9ZttvbL99wX"
      },
      "source": [
        "Notice that when we include a bunch of printout of values, it can be tricky to keep them organized mentally: with a big list of values it's hard to see which function output is which. This is a case where adding comments using the `#` character, splitting up our chunks of code into multiple pieces, or choosing to print only the relevant values can be helpful.\n",
        "\n",
        "We can also evaluate these functions at more than just a single value at a time: maybe we have a list of $x$-values that we'd like to evaluate our functions at. Instead of typing each function value individually, we can save the list of $x$-values as some variable, and evaluate our function at that variable. We define our list of values between square brackets `[ ]`. I'll call them `angles`, since they're taking on some common angular values that we recognize.\n",
        "\n"
      ]
    },
    {
      "cell_type": "code",
      "metadata": {
        "autoscroll": "auto",
        "options": {
          "caption": false,
          "complete": true,
          "display_data": true,
          "display_stream": true,
          "dpi": 200,
          "echo": true,
          "evaluate": false,
          "f_env": null,
          "f_pos": "htpb",
          "f_size": [
            6,
            4
          ],
          "f_spines": true,
          "fig": true,
          "include": true,
          "name": null,
          "option_string": "evaluate = False",
          "results": "verbatim",
          "term": false,
          "wrap": "output"
        },
        "id": "YTw_WOIY99wZ"
      },
      "source": [
        "angles = [0, np.pi/6, np.pi/4, np.pi/3, np.pi]\n",
        "print(g(angles))"
      ],
      "execution_count": null,
      "outputs": []
    },
    {
      "cell_type": "markdown",
      "metadata": {
        "format": "text/markdown",
        "id": "Ow7kOaGG99wg"
      },
      "source": [
        "We can also define lists a little bit more systematically: say we want to evaluate $f$ at values between -4 and 0: we can count from -4 to 0 by 0.5 using the `np.arange` function. It takes in three arguments, when we use it, it should look like this: `np.arange(start, stop, step)`. We'll start at -4, stop at 0, and step by 0.5.\n",
        "\n"
      ]
    },
    {
      "cell_type": "code",
      "metadata": {
        "autoscroll": "auto",
        "options": {
          "caption": false,
          "complete": true,
          "display_data": true,
          "display_stream": true,
          "dpi": 200,
          "echo": true,
          "evaluate": false,
          "f_env": null,
          "f_pos": "htpb",
          "f_size": [
            6,
            4
          ],
          "f_spines": true,
          "fig": true,
          "include": true,
          "name": null,
          "option_string": "evaluate = False",
          "results": "verbatim",
          "term": false,
          "wrap": "output"
        },
        "id": "AoB1Y00f99wi"
      },
      "source": [
        "xValues = np.arange(-4, 0, 0.5)\n",
        "print(xValues)\n",
        "print(f(xValues))"
      ],
      "execution_count": null,
      "outputs": []
    },
    {
      "cell_type": "markdown",
      "metadata": {
        "format": "text/markdown",
        "id": "Omt5m_jI99wo"
      },
      "source": [
        "Notice something very important: the `np.arange` function didn't include our \"stopping\" point, 0. It counts up to it, but does not include it. If we want to include it, then, we need to tell our function to \"stop\" at some number in the step after 0, $(0,0.5].\n",
        "\n"
      ]
    },
    {
      "cell_type": "code",
      "metadata": {
        "autoscroll": "auto",
        "options": {
          "caption": false,
          "complete": true,
          "display_data": true,
          "display_stream": true,
          "dpi": 200,
          "echo": true,
          "evaluate": false,
          "f_env": null,
          "f_pos": "htpb",
          "f_size": [
            6,
            4
          ],
          "f_spines": true,
          "fig": true,
          "include": true,
          "name": null,
          "option_string": "evaluate = False",
          "results": "verbatim",
          "term": false,
          "wrap": "output"
        },
        "id": "MfnWO8sQ99wp"
      },
      "source": [
        "xValues = np.arange(-4, 0.5, 0.5)\n",
        "print(xValues)\n",
        "print(f(xValues))"
      ],
      "execution_count": null,
      "outputs": []
    },
    {
      "cell_type": "markdown",
      "metadata": {
        "format": "text/markdown",
        "id": "W8cS2uEX99ww"
      },
      "source": [
        "## Graphing\n",
        "\n",
        "For all of our graphing in this course, we'll use the `matplotlib` library (specfically the `pyplot` module from it). Run this code to import it before we go on.\n",
        "\n"
      ]
    },
    {
      "cell_type": "code",
      "metadata": {
        "autoscroll": "auto",
        "options": {
          "caption": false,
          "complete": true,
          "display_data": true,
          "display_stream": true,
          "dpi": 200,
          "echo": true,
          "evaluate": false,
          "f_env": null,
          "f_pos": "htpb",
          "f_size": [
            6,
            4
          ],
          "f_spines": true,
          "fig": true,
          "include": true,
          "name": null,
          "option_string": "evaluate = False",
          "results": "verbatim",
          "term": false,
          "wrap": "output"
        },
        "id": "LdFQFEEp99wx"
      },
      "source": [
        "from matplotlib import pyplot as plt"
      ],
      "execution_count": null,
      "outputs": []
    },
    {
      "cell_type": "markdown",
      "metadata": {
        "format": "text/markdown",
        "id": "2vVffuDP99w5"
      },
      "source": [
        "From now on, we'll use the prefix `plt.` on our plotting functions, just like we were using the `np.` prefix on functions from the `numpy` library.\n",
        "\n",
        "For basic plotting, we'll need a list of relevant $x$-values and the corresponding function outputs. We have some already defined (`xValues` from above), so let's plot the function $f(x)$ on the interval $[-4,0]$. We'll add a title (using quotations to tell python that this is just a string of characters that it should print as the title, not actual code), and then tell python to display the plot using `plt.show()`.\n",
        "\n"
      ]
    },
    {
      "cell_type": "code",
      "metadata": {
        "autoscroll": "auto",
        "options": {
          "caption": false,
          "complete": true,
          "display_data": true,
          "display_stream": true,
          "dpi": 200,
          "echo": true,
          "evaluate": false,
          "f_env": null,
          "f_pos": "htpb",
          "f_size": [
            6,
            4
          ],
          "f_spines": true,
          "fig": true,
          "include": true,
          "name": null,
          "option_string": "evaluate = False",
          "results": "verbatim",
          "term": false,
          "wrap": "output"
        },
        "id": "bQoYbaKv99w7"
      },
      "source": [
        "plt.plot(xValues,f(xValues))\n",
        "plt.title(\"Plot of f(x) on [-4,0]\")\n",
        "plt.show()"
      ],
      "execution_count": null,
      "outputs": []
    },
    {
      "cell_type": "markdown",
      "metadata": {
        "format": "text/markdown",
        "id": "KI7nDaE399xB"
      },
      "source": [
        "Notice a couple of things: there aren't any axes on our plot, although we have the scale on the left and bottom. We can add those axes if we'd like, but it's more complicated than it's worth. Also notice that the graph is kind of choppy...it's not smooth. This is $f(x) = x^2-1$, which is a nice, smooth parabola, so what's going on here?\n",
        "\n",
        "What's happening is that python is plotting only the points that we gave it, and then connecting each point with a straight line. To get a smoother function, maybe we just create more x-values that are closer together.\n",
        "\n"
      ]
    },
    {
      "cell_type": "code",
      "metadata": {
        "autoscroll": "auto",
        "options": {
          "caption": false,
          "complete": true,
          "display_data": true,
          "display_stream": true,
          "dpi": 200,
          "echo": true,
          "evaluate": false,
          "f_env": null,
          "f_pos": "htpb",
          "f_size": [
            6,
            4
          ],
          "f_spines": true,
          "fig": true,
          "include": true,
          "name": null,
          "option_string": "evaluate = False",
          "results": "verbatim",
          "term": false,
          "wrap": "output"
        },
        "id": "-BNWHk7J99xC"
      },
      "source": [
        "xInterval = np.arange(-4,0.001,0.001)\n",
        "plt.plot(xInterval,f(xInterval))\n",
        "plt.title(\"Nicer plot of f(x) on [-4,0]\")\n",
        "plt.show()"
      ],
      "execution_count": null,
      "outputs": []
    },
    {
      "cell_type": "markdown",
      "metadata": {
        "format": "text/markdown",
        "id": "RqsEQMM899xI"
      },
      "source": [
        "An alternative to this is to use another common function to get a list of values: instead of `np.arange()`, we can use `np.linspace()`. This one acts a bit different: by default, it includes the end-point, and instead of defining the step-size, you define how many values you want. For our example, our step size was 0.001, and we were going from -4 to 0, so we'll define an interval from -4 to 0 with 4000 numbers evenly spaced.\n",
        "\n"
      ]
    },
    {
      "cell_type": "code",
      "metadata": {
        "autoscroll": "auto",
        "options": {
          "caption": false,
          "complete": true,
          "display_data": true,
          "display_stream": true,
          "dpi": 200,
          "echo": true,
          "evaluate": false,
          "f_env": null,
          "f_pos": "htpb",
          "f_size": [
            6,
            4
          ],
          "f_spines": true,
          "fig": true,
          "include": true,
          "name": null,
          "option_string": "evaluate = False",
          "results": "verbatim",
          "term": false,
          "wrap": "output"
        },
        "id": "9vN-uaBz99xJ"
      },
      "source": [
        "xInterval2 = np.linspace(-4,0,4000)\n",
        "plt.plot(xInterval2,f(xInterval2))\n",
        "plt.title(\"Another nice plot of f(x) on [-4,0]\")\n",
        "plt.show()"
      ],
      "execution_count": null,
      "outputs": []
    },
    {
      "cell_type": "markdown",
      "metadata": {
        "format": "text/markdown",
        "id": "1PqnycH799xP"
      },
      "source": [
        "There's really no difference, other than preference of defining your interval based on how many numbers you want in it, or defining it based on how far apart the values are.\n",
        "\n",
        "Let's look at multiple graphs of functions on the same plot. We'll define two functions, find values for them on the interval $[0,10]$, and then plot them.\n",
        "\n"
      ]
    },
    {
      "cell_type": "code",
      "metadata": {
        "autoscroll": "auto",
        "options": {
          "caption": false,
          "complete": true,
          "display_data": true,
          "display_stream": true,
          "dpi": 200,
          "echo": true,
          "evaluate": false,
          "f_env": null,
          "f_pos": "htpb",
          "f_size": [
            6,
            4
          ],
          "f_spines": true,
          "fig": true,
          "include": true,
          "name": null,
          "option_string": "evaluate = False",
          "results": "verbatim",
          "term": false,
          "wrap": "output"
        },
        "id": "d492PHtS99xR"
      },
      "source": [
        "def f1(x):\n",
        "  return x**(1/3)\n",
        "\n",
        "def f2(x):\n",
        "  return np.e**(-x)\n",
        "\n",
        "xInterval2 = np.linspace(0,10,1000)\n",
        "\n",
        "plt.plot(xInterval2, f1(xInterval2))\n",
        "plt.plot(xInterval2, f2(xInterval2))\n",
        "plt.title(\"Two plots on one graph\")\n",
        "plt.show()"
      ],
      "execution_count": null,
      "outputs": []
    },
    {
      "cell_type": "markdown",
      "metadata": {
        "format": "text/markdown",
        "id": "I6cjrSk599xY"
      },
      "source": [
        "# Your Turn\n",
        "\n",
        "So you've seen some examples, you've walked through them a bit; now let's turn you loose so you can get a feel for writing some code.\n",
        "\n",
        "First, make sure to run the following chunk of code to load the `numpy` and `matplotlib` libraries (just in case you didn't do it during the examples). You'll need to do this any time you open this file to work on it. If you run into errors saying things like `np not defined` or `plt not defined`, come back and run this code.\n",
        "\n"
      ]
    },
    {
      "cell_type": "code",
      "metadata": {
        "autoscroll": "auto",
        "options": {
          "caption": false,
          "complete": true,
          "display_data": true,
          "display_stream": true,
          "dpi": 200,
          "echo": true,
          "evaluate": false,
          "f_env": null,
          "f_pos": "htpb",
          "f_size": [
            6,
            4
          ],
          "f_spines": true,
          "fig": true,
          "include": true,
          "name": null,
          "option_string": "evaluate = False",
          "results": "verbatim",
          "term": false,
          "wrap": "output"
        },
        "id": "YYBee2KH99xZ"
      },
      "source": [
        "import numpy as np\n",
        "from matplotlib import pyplot as plt"
      ],
      "execution_count": null,
      "outputs": []
    },
    {
      "cell_type": "markdown",
      "metadata": {
        "format": "text/markdown",
        "id": "3OyFHRrR99xf"
      },
      "source": [
        "\n",
        "## Operations\n",
        "\n",
        "Write some code to perform the following operations:\n",
        "\n",
        "- $14^2-10$\n",
        "- $\\sqrt[10]{5}^3 + \\frac{4}{5}$\n",
        "- $e^4- \\ln 6$\n",
        "\n"
      ]
    },
    {
      "cell_type": "code",
      "metadata": {
        "autoscroll": "auto",
        "options": {
          "caption": false,
          "complete": true,
          "display_data": true,
          "display_stream": true,
          "dpi": 200,
          "echo": true,
          "evaluate": true,
          "f_env": null,
          "f_pos": "htpb",
          "f_size": [
            6,
            4
          ],
          "f_spines": true,
          "fig": true,
          "include": true,
          "name": null,
          "option_string": "",
          "results": "verbatim",
          "term": false,
          "wrap": "output"
        },
        "id": "x9KBh4iS99xh"
      },
      "source": [
        "# Use this chunk of code to write your operations."
      ],
      "execution_count": null,
      "outputs": []
    },
    {
      "cell_type": "markdown",
      "metadata": {
        "format": "text/markdown",
        "id": "IHcj2pfY99xm"
      },
      "source": [
        "## Variables\n",
        "\n",
        "Define a variable $n=10$, $a=0$, and $b=3$. Then calculate $\\Delta x = \\frac{b-a}{n}$.\n",
        "\n"
      ]
    },
    {
      "cell_type": "code",
      "metadata": {
        "autoscroll": "auto",
        "options": {
          "caption": false,
          "complete": true,
          "display_data": true,
          "display_stream": true,
          "dpi": 200,
          "echo": true,
          "evaluate": true,
          "f_env": null,
          "f_pos": "htpb",
          "f_size": [
            6,
            4
          ],
          "f_spines": true,
          "fig": true,
          "include": true,
          "name": null,
          "option_string": "",
          "results": "verbatim",
          "term": false,
          "wrap": "output"
        },
        "id": "TrH8Rz3Y99xo"
      },
      "source": [
        "# Use this chunk of code to define your variables and calculate delta_x"
      ],
      "execution_count": null,
      "outputs": []
    },
    {
      "cell_type": "markdown",
      "metadata": {
        "format": "text/markdown",
        "id": "QpV2hae099xw"
      },
      "source": [
        "Now let's imagine some cylinder with a radius $r=2.8$ and a height $h=9.14$. Calculate the volume and surface area of the cylinder, by first defining variables $r$ and $h$.\n",
        "\n"
      ]
    },
    {
      "cell_type": "code",
      "metadata": {
        "autoscroll": "auto",
        "options": {
          "caption": false,
          "complete": true,
          "display_data": true,
          "display_stream": true,
          "dpi": 200,
          "echo": true,
          "evaluate": true,
          "f_env": null,
          "f_pos": "htpb",
          "f_size": [
            6,
            4
          ],
          "f_spines": true,
          "fig": true,
          "include": true,
          "name": null,
          "option_string": "",
          "results": "verbatim",
          "term": false,
          "wrap": "output"
        },
        "id": "K6yblUA299xw"
      },
      "source": [
        "# Use this chunk of code to calculate the surface area and volume when r=2.8 and h=9.14"
      ],
      "execution_count": null,
      "outputs": []
    },
    {
      "cell_type": "markdown",
      "metadata": {
        "format": "text/markdown",
        "id": "Sf1Sos0q99x2"
      },
      "source": [
        "## Functions\n",
        "\n",
        "Define a function for the volume of a cylinder using the radius and height as the input to the function. Evaluate the function when for the following pairs $(r,h)$: $(1.4, 0.7)$, $(15,72)$, $(9.24, 1.49)$.\n",
        "\n"
      ]
    },
    {
      "cell_type": "code",
      "metadata": {
        "autoscroll": "auto",
        "options": {
          "caption": false,
          "complete": true,
          "display_data": true,
          "display_stream": true,
          "dpi": 200,
          "echo": true,
          "evaluate": true,
          "f_env": null,
          "f_pos": "htpb",
          "f_size": [
            6,
            4
          ],
          "f_spines": true,
          "fig": true,
          "include": true,
          "name": null,
          "option_string": "",
          "results": "verbatim",
          "term": false,
          "wrap": "output"
        },
        "id": "MYtU3fSN99x2"
      },
      "source": [
        "# Use this chunk of code to define the volume function, and evaluate it for the three pairs of radius/height that were given."
      ],
      "execution_count": null,
      "outputs": []
    },
    {
      "cell_type": "markdown",
      "metadata": {
        "format": "text/markdown",
        "id": "GfpTcKxZ99x8"
      },
      "source": [
        "Now define a function $f(x) = \\dfrac{e^x}{(x+1)^2}$.\n",
        "\n"
      ]
    },
    {
      "cell_type": "code",
      "metadata": {
        "autoscroll": "auto",
        "options": {
          "caption": false,
          "complete": true,
          "display_data": true,
          "display_stream": true,
          "dpi": 200,
          "echo": true,
          "evaluate": true,
          "f_env": null,
          "f_pos": "htpb",
          "f_size": [
            6,
            4
          ],
          "f_spines": true,
          "fig": true,
          "include": true,
          "name": null,
          "option_string": "",
          "results": "verbatim",
          "term": false,
          "wrap": "output"
        },
        "id": "CQgmm6Y999yA"
      },
      "source": [
        "# Use this chunk of code to define f(x)"
      ],
      "execution_count": null,
      "outputs": []
    },
    {
      "cell_type": "markdown",
      "metadata": {
        "format": "text/markdown",
        "id": "q7sf8oM899yG"
      },
      "source": [
        "Find the function outputs for $f$ for the following $x$-values:\n",
        "\n",
        "$$\n",
        "  \\{0,0.5,1,1.5,...4.5,5\\}\n",
        "$$\n",
        "\n"
      ]
    },
    {
      "cell_type": "code",
      "metadata": {
        "autoscroll": "auto",
        "options": {
          "caption": false,
          "complete": true,
          "display_data": true,
          "display_stream": true,
          "dpi": 200,
          "echo": true,
          "evaluate": true,
          "f_env": null,
          "f_pos": "htpb",
          "f_size": [
            6,
            4
          ],
          "f_spines": true,
          "fig": true,
          "include": true,
          "name": null,
          "option_string": "",
          "results": "verbatim",
          "term": false,
          "wrap": "output"
        },
        "id": "7QwfXDrz99yI"
      },
      "source": [
        "# Use this chunk of code to evaluate f(x)"
      ],
      "execution_count": null,
      "outputs": []
    },
    {
      "cell_type": "markdown",
      "metadata": {
        "format": "text/markdown",
        "id": "veyPgZMV99yR"
      },
      "source": [
        "\n",
        "### Follow-Up Questions\n",
        "\n",
        "*Include your answer underneath each question.*\n",
        "\n",
        "------\n",
        "\n",
        "*1. What is the benefit of using a function to define the volume of the cylinder?*\n",
        "\n",
        "*2. When you evaluated the function $f(x)$ just now, did you use a list of inputs? Explain in a sentence or two why using lists for inputs is helpful.*\n",
        "\n",
        "-------\n",
        "\n",
        "## Graphing\n",
        "\n",
        "Plot the function $f(x) = \\dfrac{e^x}{(x+1)^2}$ on the interval on the interval $[0,5]$. Feel free to use either the `np.arange()` function or the `np.linspace()` function to get the $x$-values. Make sure you use enough to make the graph look \"smooth.\"\n",
        "\n"
      ]
    },
    {
      "cell_type": "code",
      "metadata": {
        "autoscroll": "auto",
        "options": {
          "caption": false,
          "complete": true,
          "display_data": true,
          "display_stream": true,
          "dpi": 200,
          "echo": true,
          "evaluate": true,
          "f_env": null,
          "f_pos": "htpb",
          "f_size": [
            6,
            4
          ],
          "f_spines": true,
          "fig": true,
          "include": true,
          "name": null,
          "option_string": "",
          "results": "verbatim",
          "term": false,
          "wrap": "output"
        },
        "id": "a05hXISI99yT"
      },
      "source": [
        "# Use this chunk of code to graph f(x) on [0,5]"
      ],
      "execution_count": null,
      "outputs": []
    },
    {
      "cell_type": "markdown",
      "metadata": {
        "format": "text/markdown",
        "id": "InAVmAO_99yY"
      },
      "source": [
        "Let's add a line showing the minimum $y$-value on this graph. We can find this using the `min()` function. This function takes in a list of values (in our case, a list of the $y$-values on our graph) and tells us what the smallest value in that list is. So for example, if we define `list = [1,3,5,-2,5,3,-10,4]`, then `min(list)` will return -10, since that is the minimum value in the list.\n",
        "\n",
        "Set up a list of $y$-values (these are the function outputs you used to graph the function, which I called something like `f(xInt)`), and save the minimum value as `ymin` using the `min()` function. Then, re-do the plot of the graph, but add a horizontal line at the minimum $y$-value using the function `plt.hlines()`. This function takes in 3 values: the $y$-value of the line, the starting $x$-value, and the ending $x$-value. We can also change the color, line style, and other features. For now, let's just add the code `plt.hlines(ymin,0,5, linestyle=\"dashed\")`\n",
        "\n",
        "Make sure to put the `plt.hlines()` part of your code *before* the `plt.show()` command. The `plt.show()` command is the last one to be used, since it will be the one to tell python to display the whole plot. Anything included after that command won't be displayed.\n",
        "\n"
      ]
    },
    {
      "cell_type": "code",
      "metadata": {
        "autoscroll": "auto",
        "options": {
          "caption": false,
          "complete": true,
          "display_data": true,
          "display_stream": true,
          "dpi": 200,
          "echo": true,
          "evaluate": true,
          "f_env": null,
          "f_pos": "htpb",
          "f_size": [
            6,
            4
          ],
          "f_spines": true,
          "fig": true,
          "include": true,
          "name": null,
          "option_string": "",
          "results": "verbatim",
          "term": false,
          "wrap": "output"
        },
        "id": "Z0tIWA8K99yZ"
      },
      "source": [
        "# Use this chunk of code to graph f(x) on [0,5] and add a horizontal line at the minimum y-value"
      ],
      "execution_count": null,
      "outputs": []
    },
    {
      "cell_type": "markdown",
      "metadata": {
        "format": "text/markdown",
        "id": "L-nrmYoc99ye"
      },
      "source": [
        "\n",
        "### Follow-Up Questions\n",
        "\n",
        "*Include your answer underneath each question.*\n",
        "\n",
        "-------\n",
        "\n",
        "*3. What other visuals/features might be good to add to this plot, where we're trying to visualize the minimum? Explain why you think these features will be helpful?*\n",
        "\n",
        "-------\n"
      ]
    }
  ]
}