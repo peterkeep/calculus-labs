{
  "nbformat": 4,
  "nbformat_minor": 0,
  "metadata": {
    "colab": {
      "name": "Lab1_Limits.ipynb",
      "provenance": [],
      "collapsed_sections": [],
      "authorship_tag": "ABX9TyMVb+eFbbdWC/4NtW0idqzY",
      "include_colab_link": true
    },
    "kernelspec": {
      "name": "python3",
      "display_name": "Python 3"
    }
  },
  "cells": [
    {
      "cell_type": "markdown",
      "metadata": {
        "id": "view-in-github",
        "colab_type": "text"
      },
      "source": [
        "<a href=\"https://colab.research.google.com/github/peterkeep/calculus-labs/blob/master/calculus-1/Lab1_Limits.ipynb\" target=\"_parent\"><img src=\"https://colab.research.google.com/assets/colab-badge.svg\" alt=\"Open In Colab\"/></a>"
      ]
    },
    {
      "cell_type": "markdown",
      "metadata": {
        "id": "CLYBH_Z-6sWL"
      },
      "source": [
        "Lab 1: Limits\n",
        "==================================\n",
        "\n",
        "**Name:**\n",
        "\n",
        "**Due Date:** \n",
        "\n",
        "# Instructions\n",
        "\n",
        "Follow through the Leading Examples section, and then complete the Your Turn section. We'll look at graphical and numerical approximations of limits for a variety of functions, including piecewise-defined functions!\n",
        "\n",
        "Answer the Follow-Up Questions after each section by typing your answers under each question.\n",
        "\n",
        "Type your name and due date on the top of this lab.\n",
        "\n",
        "Submit the file on Canvas through the assignment submission for Lab 1.\n",
        "\n",
        "# Leading Examples\n",
        "\n",
        "In these examples, we'll walk through a basic process for approximating limits numerically as well as graphically. Then we'll investigate the Squeeze Theorem as well as the Precise Definition of Limits.\n",
        "\n",
        "## Aproximating a Limit for an Algebraic Function\n",
        "\n",
        "Let's consider the following limit:\n",
        "\n",
        "$$\n",
        "  \\lim_{x\\to 9} \\frac{\\sqrt{x}-3}{x-9}\n",
        "$$\n",
        "\n",
        "To investigate this limit graphically, we wish to plot the function $f(x) = \\frac{\\sqrt{x}-3}{x-9}$ \"around\" $x=9$; we'll look to see if the graph seems to approach the same y-value on the left as it does on the right.\n",
        "\n",
        "We'll need to load `pyplot` from `matplotlib`. Also, we'll use the `numpy` library to help out with square roots. Run the following chunk of code to load the libraries.\n",
        "\n"
      ]
    },
    {
      "cell_type": "code",
      "metadata": {
        "id": "mrsw0JA86oIe"
      },
      "source": [
        "from matplotlib import pyplot as plt\n",
        "import numpy as np"
      ],
      "execution_count": null,
      "outputs": []
    },
    {
      "cell_type": "markdown",
      "metadata": {
        "id": "KbCtFuOR6yCB"
      },
      "source": [
        "Now we can plot the function. Remember, to do so, we need to define x-values and their corresponding y-values, so let's first define the function $f(x)$.\n",
        "\n"
      ]
    },
    {
      "cell_type": "code",
      "metadata": {
        "id": "mVE37kA860GB"
      },
      "source": [
        "def f(x):\n",
        "  return (np.sqrt(x)-3)/(x-9)"
      ],
      "execution_count": null,
      "outputs": []
    },
    {
      "cell_type": "markdown",
      "metadata": {
        "id": "iLS8NlVv628B"
      },
      "source": [
        "Now we can define a list of $x$-values around $x=9$. Let's split these into $x$-values on the left of 9 ($x<9$) and $x$-values on the right of 9 ($x>9$). That way, we can plot them separately to investigate the one-sided limits.\n",
        "\n"
      ]
    },
    {
      "cell_type": "code",
      "metadata": {
        "id": "jyBJUCvR643K"
      },
      "source": [
        "xLeft = np.arange(8,9,0.1)\n",
        "xRight = np.arange(10,9,-0.1)\n",
        "\n",
        "print(xLeft)\n",
        "print(xRight)"
      ],
      "execution_count": null,
      "outputs": []
    },
    {
      "cell_type": "markdown",
      "metadata": {
        "id": "ZVuPTymX66xC"
      },
      "source": [
        "Notice that we can count down using the `arange()` function by starting at 10, ending at 9, and using a negative step size. It is also convenient to use `arange()`, since `arange()` doesn't include the end-point (9): that should be useful for limits!\n",
        "\n",
        "Now let's plot the two.\n",
        "\n"
      ]
    },
    {
      "cell_type": "code",
      "metadata": {
        "id": "R7vVXfBH69Aa"
      },
      "source": [
        "plt.plot(xLeft,f(xLeft))\n",
        "plt.plot(xRight,f(xRight))\n",
        "plt.title(\"Graphical approximation of a limit\")\n",
        "plt.show()"
      ],
      "execution_count": null,
      "outputs": []
    },
    {
      "cell_type": "markdown",
      "metadata": {
        "id": "XDTfdS8g6-_K"
      },
      "source": [
        "We can see a bit of where the limit might be: somewhere in that gap! It looks, so far, like the lines on either side could definitely be approaching the same value. Let's add some horizontal lines to see what y-values our limit is likely between.\n",
        "\n",
        "For this, we want the $y$-value of the \"last\" $x$-value from each of our lists of $x$-values. This will give us $f(8.9)$ and $f(9.1)$. Instead of directly using those $y$-values, let's find some code to just identify the last $x$-value from each list...that way, if we change things (like our step size), we can re-use the code we've built. This is an important idea in programming projects like this: we should try to keep *replication* in mind as we write code.\n",
        "\n",
        "It is easy to tell python to identify a specific element of a list: we just use `xRight[n]` to give us the $n$th element. We can also use `-n` to have python count from the end of the list. So `xRight[-1]` and `xLeft[-1]` will give us the last number in each of our lists of $x$-values.\n",
        "\n"
      ]
    },
    {
      "cell_type": "code",
      "metadata": {
        "id": "_3GgjQ7J7At6"
      },
      "source": [
        "plt.plot(xLeft,f(xLeft))\n",
        "plt.plot(xRight,f(xRight))\n",
        "plt.title(\"Graphical approximation of a limit\")\n",
        "plt.hlines(f(xRight[-1]), 8, 10, colors = \"red\", linestyles = \"dashed\")\n",
        "plt.hlines(f(xLeft[-1]), 8, 10, colors = \"red\", linestyles = \"dashed\")\n",
        "plt.show()"
      ],
      "execution_count": null,
      "outputs": []
    },
    {
      "cell_type": "markdown",
      "metadata": {
        "id": "wAeLnQoq7Cqi"
      },
      "source": [
        "For our own curiosity, we might want to know what that interval of $y$-values is.\n",
        "\n"
      ]
    },
    {
      "cell_type": "code",
      "metadata": {
        "id": "ZwkFl16T7EMy"
      },
      "source": [
        "print(f(xRight[-1]))\n",
        "print(f(xLeft[-1]))"
      ],
      "execution_count": null,
      "outputs": []
    },
    {
      "cell_type": "markdown",
      "metadata": {
        "id": "6eKGpXgb7FEy"
      },
      "source": [
        "So we know our limit is likely somewhere between 0.1662(ish) and 0.1671(ish). That's helpful!\n",
        "\n",
        "Let's re-define our $x$-values to be a bit closer to 9 in the middle.\n",
        "\n"
      ]
    },
    {
      "cell_type": "code",
      "metadata": {
        "id": "xr0hqWN07HiC"
      },
      "source": [
        "xLeft = np.arange(8,9,0.0001)\n",
        "xRight = np.arange(10,9,-0.0001)\n",
        "\n",
        "plt.plot(xLeft,f(xLeft))\n",
        "plt.plot(xRight,f(xRight))\n",
        "plt.title(\"Graphical approximation of a limit\")\n",
        "plt.hlines(f(xRight[-1]), 8, 10, colors = \"red\", linestyles = \"dashed\")\n",
        "plt.hlines(f(xLeft[-1]), 8, 10, colors = \"red\", linestyles = \"dashed\")\n",
        "plt.show()"
      ],
      "execution_count": null,
      "outputs": []
    },
    {
      "cell_type": "markdown",
      "metadata": {
        "id": "H7sKffRv7H-q"
      },
      "source": [
        ""
      ]
    },
    {
      "cell_type": "code",
      "metadata": {
        "id": "WdO54rlw7LBq"
      },
      "source": [
        "print(f(xRight[-1]))\n",
        "print(f(xLeft[-1]))"
      ],
      "execution_count": null,
      "outputs": []
    },
    {
      "cell_type": "markdown",
      "metadata": {
        "id": "896Rocq_7KkK"
      },
      "source": [
        "This is great evidence that the limit exists! It seems like the left and right sides both are approaching the same $y$-value as $x$ approaches 9. It is really only that though: very compelling evidence. This is not explicit proof that the limit exists, or what it is. We have a good numerical approximation, since we have those $y$-value bounds on the limit.\n",
        "\n",
        "Let's note, though, that this is a limit that we could evaluate using the tools we've build in this class so far. It shouldn't be hard to see that:\n",
        "\n",
        "$$\n",
        "  \\begin{aligned}\n",
        "    \\lim_{x\\to 9} \\dfrac{\\sqrt{x}-3}{x-9}\n",
        "    & = \\lim_{x\\to 9} \\dfrac{\\sqrt{x}-3}{x-9} \\cdot \\dfrac{\\sqrt{x}+3}{\\sqrt{x}+3}\\\\\n",
        "    & = \\lim_{x\\to 9} \\dfrac{1}{\\sqrt{x}+3} = \\dfrac{1}{6}\n",
        "  \\end{aligned}\n",
        "$$\n",
        "\n",
        "Now let's look at a piecewise function, and try to graphically approximate the limit.\n",
        "\n",
        "## Aproximating a Limit for a Piecewise Function\n",
        "\n",
        "Let's consider the function $g(x) = \\begin{cases} -3x+10 & \\text{if } x<4\\\\\n",
        "2x-8 & \\text{if } x\\geq 4\\end{cases}$, and try to estimate $\\displaystyle \\lim_{x\\to 4} g(x)$.\n",
        "\n",
        "To define the function $g$, we'll make use of `if` `then` statements. These will allow us to put conditions on the inputs of our function. Also, in order for python to be able to treat the `if` `then` statements like a funciton, we need to *vectorize* the function using `np.vectorize()`. Notice that I just over-write the function $g$ with the vectorized version of itself.\n",
        "\n"
      ]
    },
    {
      "cell_type": "code",
      "metadata": {
        "id": "_8AEPR6e7OUi"
      },
      "source": [
        "def g(x):\n",
        "  if x<4: return -3*x+10\n",
        "  else: return 2*x-8\n",
        "\n",
        "g = np.vectorize(g)"
      ],
      "execution_count": null,
      "outputs": []
    },
    {
      "cell_type": "markdown",
      "metadata": {
        "id": "fMumx4Ng7P1i"
      },
      "source": [
        "This says that if $x< 4$, the function should use the expression $-3x+10$, and otherwise use $2x-8$ for any inputs that aren't less than 4 ($x\\geq 4$).\n",
        "\n",
        "Let's plot the function \"around\" $x=4$ in the same way that we did above:\n",
        "\n"
      ]
    },
    {
      "cell_type": "code",
      "metadata": {
        "id": "98EZl5VS7RQK"
      },
      "source": [
        "xLeft = np.arange(3,4,0.1)\n",
        "xRight = np.arange(5,4,-0.1)\n",
        "plt.plot(xLeft, g(xLeft))\n",
        "plt.plot(xRight, g(xRight))\n",
        "plt.title(\"Graphical Approximation of a Limit (Piecewise Function)\")\n",
        "plt.show()"
      ],
      "execution_count": null,
      "outputs": []
    },
    {
      "cell_type": "markdown",
      "metadata": {
        "id": "22R1iJzw7RuD"
      },
      "source": [
        "This does not look like there is much hope of the limit existing: the left and the right seem to be separated. We can add some details with horizontal lines (like we did earlier), but first, let's add some accuracy by changing our step size.\n",
        "\n"
      ]
    },
    {
      "cell_type": "code",
      "metadata": {
        "id": "VqXzRheI7U8b"
      },
      "source": [
        "xLeft = np.arange(3,4,0.0001)\n",
        "xRight = np.arange(5,4,-0.0001)\n",
        "plt.plot(xLeft, g(xLeft))\n",
        "plt.plot(xRight, g(xRight))\n",
        "plt.title(\"Graphical Approximation of a Limit (Piecewise Function)\")\n",
        "plt.hlines(g(xRight[-1]),3,5, colors = \"red\", linestyles = \"dashed\")\n",
        "plt.hlines(g(xLeft[-1]),3,5, colors = \"red\", linestyles = \"dashed\")\n",
        "plt.show()"
      ],
      "execution_count": null,
      "outputs": []
    },
    {
      "cell_type": "markdown",
      "metadata": {
        "id": "ZkaYzjVZ7W5p"
      },
      "source": [
        "Notice that it doesn't look like these $y$-values get close to each other, even as our $x$-values get closer to 4 (by using the smaller step size).\n",
        "\n",
        "We can show this numerically:\n",
        "\n"
      ]
    },
    {
      "cell_type": "code",
      "metadata": {
        "id": "oGTF_iAK7WaC"
      },
      "source": [
        "print(g(xRight[-1]))\n",
        "print(g(xLeft[-1]))"
      ],
      "execution_count": null,
      "outputs": []
    },
    {
      "cell_type": "markdown",
      "metadata": {
        "id": "dp1q2mQ07aCn"
      },
      "source": [
        "We have great visual and numerical evidence that the limit of $g(x)$ does not exist as $x\\to 4$.\n",
        "\n",
        "# Your Turn\n",
        "\n",
        "Let's investigate some other limits graphically and numerically! Keep referring back to the Leading Examples for help defining the functions, or using the plots.\n",
        "\n",
        "First, though, run the following block of code to be able to use the `numpy` and `matplotlib` libraries. You don't need to type these lines anywhere else: just make sure you run this block first every time you open up the lab to work on it.\n",
        "\n"
      ]
    },
    {
      "cell_type": "code",
      "metadata": {
        "id": "DWhYXEon7b3Z"
      },
      "source": [
        "import numpy as np\n",
        "from matplotlib import pyplot as plt"
      ],
      "execution_count": null,
      "outputs": []
    },
    {
      "cell_type": "markdown",
      "metadata": {
        "id": "7Y644i9D7fA_"
      },
      "source": [
        "Let's start with some limits that we would have a **hard time** evaluating, instead of focussing on limits like the one in the first example. Sound good? Let's do it!\n",
        "\n",
        "## First Example: Squeeze Theorem\n",
        "\n",
        "Let's take a look at a limit that we *could* evaluate using the Squeeze Theorem.\n",
        "\n",
        "$$\n",
        "  \\lim_{x\\to 0} x^2 \\sin(2\\pi x)\n",
        "$$\n",
        "\n",
        "First, we'll need to define a function $f(x) = \\displaystyle x^2 \\sin(2\\pi x)$.\n",
        "\n"
      ]
    },
    {
      "cell_type": "code",
      "metadata": {
        "id": "1nmoLTwe7g3u"
      },
      "source": [
        "# Use this chunk of code to define f(x)"
      ],
      "execution_count": null,
      "outputs": []
    },
    {
      "cell_type": "markdown",
      "metadata": {
        "id": "ZdK4r8xZ7ijn"
      },
      "source": [
        "\n",
        "Now we'll investigate the function around the $x$-value 0. We'll again split it up into $x$-values on the left of 0 and on the right of 0. Then, you can go ahead and plot the function on both sides of 0.\n",
        "\n",
        "Use `xLeft = np.arange(-1,0,0.1)` and `xRight = np.arange(1,0,-0.1)` to start. Add horizontal lines, like we did in the example.\n",
        "\n"
      ]
    },
    {
      "cell_type": "code",
      "metadata": {
        "id": "8TelKDbW7kdY"
      },
      "source": [
        "# Use this chunk to define xLeft and xRight, as well as plot the graph for f(x)"
      ],
      "execution_count": null,
      "outputs": []
    },
    {
      "cell_type": "markdown",
      "metadata": {
        "id": "yQ9HfAc27j_P"
      },
      "source": [
        "Now, let's see where those horizontal lines are, by running the following block of code:\n",
        "\n",
        "\n",
        "\n"
      ]
    },
    {
      "cell_type": "code",
      "metadata": {
        "id": "kLqA58ZW7ozl"
      },
      "source": [
        "print(f(xRight[-1]))\n",
        "print(f(xLeft[-1]))"
      ],
      "execution_count": null,
      "outputs": []
    },
    {
      "cell_type": "markdown",
      "metadata": {
        "id": "a0BKU61N7sXr"
      },
      "source": [
        "\n",
        "### Follow-Up Questions\n",
        "\n",
        "*Include your answer underneath each question.*\n",
        "\n",
        "------\n",
        "\n",
        "*1. Describe the accuracy of your graph: why does the graph look weird? Does it matter for our purpose (approximating the limit)?*\n",
        "\n",
        "*2. What do you think this limit is? Explain your reasoning, and what you thought was most helpful in approximating the limit: the graph, or the actual numbers.*\n",
        "\n",
        "-------\n",
        "\n",
        "## Second Example: A Little Harder\n",
        "\n",
        "Let's take a look at a limit that would be a bit more difficult to evaluate, given that setting up the Squeeze Theorem could be tricky.\n",
        "\n",
        "$$\n",
        "  \\lim_{x\\to 1} \\frac{e^x - e}{x-1}\n",
        "$$\n",
        "\n",
        "Again, we'll need to define the function $g(x) = \\dfrac{e^x - e}{x-1}$.\n",
        "\n"
      ]
    },
    {
      "cell_type": "code",
      "metadata": {
        "id": "J-FbHzkU7uCb"
      },
      "source": [
        "# Use this chunk of code to define g(x)"
      ],
      "execution_count": null,
      "outputs": []
    },
    {
      "cell_type": "markdown",
      "metadata": {
        "id": "RlFd5T9Y7vja"
      },
      "source": [
        "\n",
        "Now we'll investigate the function around the $x$-value 1. We'll again split it up into $x$-values on the left of 0 and on the right of 1. Then, you can go ahead and plot the function on both sides of 1.\n",
        "\n",
        "Use `xLeft = np.arange(0,1,0.1)` and `xRight = np.arange(2,1,-0.1)` to start. Add horizontal lines, like we did in the example.\n",
        "\n"
      ]
    },
    {
      "cell_type": "code",
      "metadata": {
        "id": "yiABvyGn7xqi"
      },
      "source": [
        "# Use this chunk to define xLeft and xRight, as well as plot the graph for g(x)"
      ],
      "execution_count": null,
      "outputs": []
    },
    {
      "cell_type": "markdown",
      "metadata": {
        "id": "HbAi8Osg8kYj"
      },
      "source": [
        "\n",
        "Re-do that chunk of code, but change the step size from 0.1 to 0.01. This should give us a bit better of an approximation.\n",
        "\n"
      ]
    },
    {
      "cell_type": "code",
      "metadata": {
        "id": "Ee2kIPKe8ly7"
      },
      "source": [
        "# Use this chunk to re-define xLeft and xRight, as well as plot the graph for g(x)"
      ],
      "execution_count": null,
      "outputs": []
    },
    {
      "cell_type": "markdown",
      "metadata": {
        "id": "r7hZ1B0L8nls"
      },
      "source": [
        "Again, let's see where those horizontal lines are, by running the following block of code:\n"
      ]
    },
    {
      "cell_type": "code",
      "metadata": {
        "id": "5MThSdAA8oCb"
      },
      "source": [
        "print(g(xRight[-1]))\n",
        "print(g(xLeft[-1]))"
      ],
      "execution_count": null,
      "outputs": []
    },
    {
      "cell_type": "markdown",
      "metadata": {
        "id": "HZYNKP2u8raL"
      },
      "source": [
        "\n",
        "### Follow-Up Questions\n",
        "\n",
        "*Include your answer underneath each question.*\n",
        "\n",
        "------\n",
        "\n",
        "*3. Do you think the limit exists or not? Why? What evidence is convincing? If the limit exists, what do you think it is?*\n",
        "\n",
        "-------\n",
        "\n",
        "## Third Example: A Piecewise Function\n",
        "\n",
        "One last example, with another piecewise function.\n",
        "\n",
        "$$\n",
        "  h(x) = \\begin{cases}\n",
        "    \\dfrac{\\sin x}{x} & \\text{for } x<0\\\\\n",
        "    \\cos(x^x) & \\text{for } x>0\n",
        "  \\end{cases}\n",
        "$$\n",
        "\n",
        "Since this is kind of a weird function, I'll define it for you: just run the following code.\n",
        "\n"
      ]
    },
    {
      "cell_type": "code",
      "metadata": {
        "id": "deORfdy08sC8"
      },
      "source": [
        "def h(x):\n",
        "  if x<0: return np.sin(x)/x\n",
        "  if x>0: return np.cos(x**x)\n",
        "\n",
        "h = np.vectorize(h)"
      ],
      "execution_count": null,
      "outputs": []
    },
    {
      "cell_type": "markdown",
      "metadata": {
        "id": "IKkXX6E18vKE"
      },
      "source": [
        "Now we'll investigate the function around the $x$-value 0. We'll again split it up into $x$-values on the left of 0 and on the right of 0. Then, you can go ahead and plot the function on both sides of 0.\n",
        "\n",
        "Write your own `xLeft` and `xRight` lists using `np.arange()`. You might have to try it a couple of times to get the \"step size\" right: check your graphs and make sure it looks good. Again, include horizontal lines in your graph to approximate the limit.\n",
        "\n"
      ]
    },
    {
      "cell_type": "code",
      "metadata": {
        "id": "x38Z7aWU8wxW"
      },
      "source": [
        "# Use this chunk to re-define xLeft and xRight, as well as plot the graph for h(x)"
      ],
      "execution_count": null,
      "outputs": []
    },
    {
      "cell_type": "markdown",
      "metadata": {
        "id": "IOhjvkcz8zgy"
      },
      "source": [
        "And finally, we can approximate the limit numerically:"
      ]
    },
    {
      "cell_type": "code",
      "metadata": {
        "id": "s5qAXsO681Fc"
      },
      "source": [
        "# Use this chunk of code to find the best numerical approximation in your code\n",
        "# (the location of the horizontal lines)"
      ],
      "execution_count": null,
      "outputs": []
    },
    {
      "cell_type": "markdown",
      "metadata": {
        "id": "F0MvP3hx8210"
      },
      "source": [
        "### Follow-Up Questions\n",
        "\n",
        "*Include your answer underneath each question.*\n",
        "\n",
        "------\n",
        "\n",
        "*4. Do you think the limit exists or not? Why? What evidence is convincing? If the limit exists, what do you think it is?*\n",
        "\n",
        "*5. Why might it be useful to go through these kinds of problems using python (or some other computer programming language)? What are some benefits you can think of from approximating limits this way?*\n",
        "\n",
        "-------\n"
      ]
    }
  ]
}