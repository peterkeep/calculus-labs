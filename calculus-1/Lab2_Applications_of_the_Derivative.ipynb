{
  "nbformat": 4,
  "nbformat_minor": 0,
  "metadata": {
    "colab": {
      "name": "Lab2_Applications_of_the_Derivative.ipynb",
      "provenance": [],
      "collapsed_sections": [],
      "authorship_tag": "ABX9TyNeeqMPQvNQvxHDQQ2XSLhH",
      "include_colab_link": true
    },
    "kernelspec": {
      "name": "python3",
      "display_name": "Python 3"
    }
  },
  "cells": [
    {
      "cell_type": "markdown",
      "metadata": {
        "id": "view-in-github",
        "colab_type": "text"
      },
      "source": [
        "<a href=\"https://colab.research.google.com/github/peterkeep/calculus-labs/blob/master/calculus-1/Lab2_Applications_of_the_Derivative.ipynb\" target=\"_parent\"><img src=\"https://colab.research.google.com/assets/colab-badge.svg\" alt=\"Open In Colab\"/></a>"
      ]
    },
    {
      "cell_type": "markdown",
      "metadata": {
        "id": "fKRnccuRODv2"
      },
      "source": [
        "Lab 2: Applications of the Derivative\n",
        "==================================\n",
        "\n",
        "**Name:**\n",
        "\n",
        "**Due Date:** \n",
        "\n",
        "# Instructions\n",
        "\n",
        "Follow through the Leading Examples section, and then complete the Your Turn section. The plan is to do some investigation of different applications of Newton's Method.\n",
        "\n",
        "Answer the Follow-Up Questions after each section by typing your answers under each question.\n",
        "\n",
        "Type your name and due date on the top of this lab.\n",
        "\n",
        "Submit the file on Canvas through the assignment submission for Lab 2.\n",
        "\n",
        "# Leading Examples\n",
        "\n",
        "In these examples, \n",
        "\n",
        "We'll need to load `pyplot` from `matplotlib`. Also, we'll use the `numpy` library again.\n",
        "\n"
      ]
    },
    {
      "cell_type": "code",
      "metadata": {
        "id": "ztStVE59NoYt"
      },
      "source": [
        "from matplotlib import pyplot as plt\n",
        "import numpy as np"
      ],
      "execution_count": null,
      "outputs": []
    },
    {
      "cell_type": "markdown",
      "metadata": {
        "id": "PqSxfYDgVdhZ"
      },
      "source": [
        "## Intersection Points\n",
        "\n",
        "We know we can find intersection points between two functions using Newton's Method. This will be a nice introduction, where we can build some functions to help run Newton's Method quickly.\n",
        "\n",
        "We know a little bit about growth rates of function types by now. One of the things we've seen is that exponential functions in general \"grow\" faster than power functions. This means that, for example, the function $y=e^x$ tends to infinity faster than the function $y=x^3$ tends to infinity.\n",
        "\n",
        "Let's investigate this a little more!"
      ]
    },
    {
      "cell_type": "code",
      "metadata": {
        "id": "2kJ1DxraP3B8"
      },
      "source": [
        "def f(x):\n",
        "  return np.e**x \n",
        "\n",
        "def g(x):\n",
        "  return x**3\n",
        "\n",
        "xVals = np.arange(0, 5, 0.1)\n",
        "\n",
        "plt.plot(xVals, f(xVals))\n",
        "plt.plot(xVals, g(xVals))\n",
        "plt.title(\"Graph of $f(x)=3^x$ and $g(x)=x^3$\")\n",
        "plt.show()"
      ],
      "execution_count": null,
      "outputs": []
    },
    {
      "cell_type": "markdown",
      "metadata": {
        "id": "4_UjH_hURpNY"
      },
      "source": [
        "Ok, so maybe there are some intersection points between those two cuves, but it's hard to see. Let's look at a different plot.\n",
        "\n",
        "If we were going to actually find intersection points by hand, we would set up an equation where $f(x) = g(x)$, and solve.\n",
        "\n",
        "$$\n",
        "e^x = x^3 \\to e^x - x^3 = 0\n",
        "$$\n",
        "\n",
        "Let's look at *this* graphically. We'll graph $y = e^x - x^3$ and see if we can tell where it crosses the $x$-axis (where it is 0)."
      ]
    },
    {
      "cell_type": "code",
      "metadata": {
        "id": "SdaIU2QpSPDy"
      },
      "source": [
        "plt.plot(xVals, f(xVals) - g(xVals))\n",
        "plt.hlines(0, 0, 5) # horizontal line at y=0 from x=0 to x=4 (x-axis)\n",
        "plt.title(\"Graph of $y = e^x - x^3$\")\n",
        "plt.show()"
      ],
      "execution_count": null,
      "outputs": []
    },
    {
      "cell_type": "markdown",
      "metadata": {
        "id": "uGCeQwB4RJjW"
      },
      "source": [
        "We can notice that $e^x - x^3 < 0$ for a short interval of $x$-values somewhere between $x=1$ and $x=5$. That means, then, that $x^3> e^x$ for those $x$-values. It might be interesting and worth while to see where those are! \n",
        "\n",
        "Let's find the first $x$-intercept on this curve (the point where $x^3$ becomes larger than $e^x$).\n",
        "\n",
        "So we'll use Newton's Method for this. I'll do some work defining a function that will \"do\" Newton's Method for us."
      ]
    },
    {
      "cell_type": "code",
      "metadata": {
        "id": "IiMQ1qaST7LO"
      },
      "source": [
        "def Newton(CurrentGuess, Func, Deriv):\n",
        "  diff = 10 # A big initial difference\n",
        "  iteration = 0 # We haven't started yet\n",
        "  while diff > 0.0001 and iteration < 100:\n",
        "    NewGuess = CurrentGuess - Func(CurrentGuess) / Deriv(CurrentGuess) # Newton's Method\n",
        "    iteration = iteration + 1 # This is a new iteration\n",
        "    diff = abs(NewGuess - CurrentGuess) # Find the difference between approximations\n",
        "    CurrentGuess = NewGuess # Our new guess is now the most current one\n",
        "  # Summary information\n",
        "  if iteration == 100: exitstatus = \"timed out\"\n",
        "  else: exitstatus = \"converged\"\n",
        "  Approx = NewGuess\n",
        "  print(\"In this example, Newton's Method\", exitstatus, \"after\", iteration, \"iterations.\")\n",
        "  print(\"The approximation is:\", Approx)"
      ],
      "execution_count": null,
      "outputs": []
    },
    {
      "cell_type": "markdown",
      "metadata": {
        "id": "ljbuPcUWfZ26"
      },
      "source": [
        "A quick explanation of what this is doing:\n",
        "\n",
        "- I'm going to define two different \"stopping criteria\" here. One of them is the basic \"do it for this many iterations.\" I'm defining it to do 100 iterations at most. But I'm also adding in another thing: if the newest approximation is a repeat of the old one, then we can stop...instead of doing this by rounding my approximations to some decimal place and looking for repeats, I'm just going to look at the difference between the two guesses using `diff`. Once that gets small enough (in this case less than 0.0001), then we can stop.\n",
        "- The `while` loop is essentially using the two different stopping criteria: as long as the difference is not too small, and as long as we haven't done too many iterations, we'll keep going. So \"while these two things are true, do the 4 indented lines of code.\"\n",
        "- You'll see that in the 4 lines of code, we:\n",
        "  - use Newton's Method to find the next approximation\n",
        "  - add 1 to our iteration counter\n",
        "  - find the difference between guesses\n",
        "  - set the new guess to be the current one so that the next round of Newton's Method goes well\n",
        "- In the summary information, I'm just printing out information on what happened:\n",
        "  - If we stopped because we \"ran out\" of iterations, then we'll say that Newton's Method \"timed out,\" since we never saw two guesses that were close enough to each other to stop.\n",
        "  - If we stopped because we say two guesses close to each other, we'll say that Newton's Method \"converged.\"\n",
        "  - We obviously want to know the must current approximation!\n",
        "\n",
        "\n",
        "\n",
        "\n",
        "Let's try this with our function. Note, the function we're using Newton's Method on is $f(x) = e^x - x^3$, since that's the thing we're setting equal to 0. We need an initial guess, and the derivative of $f(x)$.\n",
        "\n",
        "So $x_0 = 2$ is a fine guess to start with. Then we have $f'(x) = e^x - 3x^2$."
      ]
    },
    {
      "cell_type": "code",
      "metadata": {
        "id": "fkog-JqLfyGQ"
      },
      "source": [
        "def h(x):\n",
        "  return np.e**x - x**3\n",
        "\n",
        "def dhdx(x):\n",
        "  return np.e**x - 3 * x**2\n",
        "\n",
        "Newton(2, h, dhdx)"
      ],
      "execution_count": null,
      "outputs": []
    },
    {
      "cell_type": "markdown",
      "metadata": {
        "id": "ZPCxabUFjpDu"
      },
      "source": [
        "We'll come back to this example in the \"Your Turn\" when you find the second a good approximation for the second $x$-value."
      ]
    },
    {
      "cell_type": "markdown",
      "metadata": {
        "id": "0xLSXdRpmaDC"
      },
      "source": [
        "## Optimization Problems\n",
        "\n",
        "Let's say we have some optimization problem that comes down to finding the absolute minimum of $j(x) =x^2 -100x+\\cos^2x-\\ln(x)$ on the interval $(0,\\infty). This would be difficult to do by hand! \n",
        "\n",
        "We know that in order to do this, we need to find any critical points of the function. So we start with the derivative:\n",
        "\n",
        "$$\n",
        "  j'(x) = 2x-100 - 2\\sin(x)\\cos(x) -\\frac{1}{x}\n",
        "$$\n",
        "\n",
        "So we see that the only value where $j'(x)$ doesn't exist is when $x=0$, but that's not in the domain of the function, so it's not a critical point.\n",
        "\n",
        "So that leaves us to solve the equation: \n",
        "\n",
        "$$\n",
        "  j'(x) = 0 \\to 2x - 100 - 2\\sin x \\cos x - \\frac{1}{x} = 0\n",
        "$$\n",
        "\n",
        "This is where things get difficult, and we'll need to implement Newton's Method."
      ]
    },
    {
      "cell_type": "code",
      "metadata": {
        "id": "iJ8rsOqmvoze"
      },
      "source": [
        "def j(x):\n",
        "  return x**2 - 100*x + (np.cos(x))**2 - np.log(x)\n",
        "\n",
        "def djdx(x):\n",
        "  return 2*x - 100 - 2*np.sin(x)*np.cos(x) - 1/x\n",
        "\n",
        "xVals = np.arange(0,500, 1)\n",
        "plt.plot(xVals, j(xVals))\n",
        "plt.title(\"Graph of j(x) on (0,500)\")\n",
        "plt.show()"
      ],
      "execution_count": null,
      "outputs": []
    },
    {
      "cell_type": "markdown",
      "metadata": {
        "id": "sXPkUdxox6Gn"
      },
      "source": [
        "Note the error: there's a problem with the log function. Notice the interval of $x$-values we graphed start at $x=0$, but our interval doesn't include 0 because the logarithm function isn't defined there. \n",
        "\n",
        "We could tinker around with the $x$-values where graphing at, and use something like `np.arange(0.1,500, 1)` or something like that, but let's leave it for now.\n",
        "\n",
        "Ok, so there *is* a critical number that we can find there. Let's see if we can find it! \n",
        "\n",
        "We'll use Newton's Method to try to approximate solutions of $j'(x) = 0$. For the initial guess, it kind of doesn't matter here: Newton's Method gets messed up when there are lots of changes in curves in the function and things like that, and that's not the case here.\n",
        "\n",
        "So notice now that since we're doing Newton's Method on $j'(x)$, we'll need the second derivative!\n",
        "\n",
        "$$\n",
        "  j''(x) = 2 - 2\\cos^2(x) + 2\\sin^2(x) - \\frac{1}{x^2}\n",
        "$$"
      ]
    },
    {
      "cell_type": "code",
      "metadata": {
        "id": "aobxnwjXH0GB"
      },
      "source": [
        "def d2jdx2(x):\n",
        "  return 2 - 2*(np.cos(x))**2 + 2*(np.sin(x))**2 - 1/x**2\n",
        "\n",
        "# Newton's Method starting with x=200 as our initial guess\n",
        "Newton(200, djdx, d2jdx2)"
      ],
      "execution_count": null,
      "outputs": []
    },
    {
      "cell_type": "markdown",
      "metadata": {
        "id": "iv6iYzCbJs0s"
      },
      "source": [
        "Some more important information:"
      ]
    },
    {
      "cell_type": "code",
      "metadata": {
        "id": "aMNZWYDeLKxL"
      },
      "source": [
        "print(j(49.51106))\n",
        "print(djdx(49.51106))\n",
        "print(d2jdx2(49.51106))"
      ],
      "execution_count": null,
      "outputs": []
    },
    {
      "cell_type": "markdown",
      "metadata": {
        "id": "kSFPMehLLT39"
      },
      "source": [
        "So what do we have here?\n",
        "\n",
        "$j'(x) \\approx 0$ which is good news, since that's what we were looking for!\n",
        "\n",
        "We also have $j''(x) >0$, which means that by the Second Derivative Test, we have that this $x$-value is a minimum. We also have the actual value of the minimum, since $j(x) \\approx -2503$.\n",
        "\n",
        "The only next question is to see if this critical point is the only one: if it is, then we know that this local minimum is the absolute minimum! Let's check the graph of $j'(x)$."
      ]
    },
    {
      "cell_type": "code",
      "metadata": {
        "id": "928W9vNjMkZ3"
      },
      "source": [
        "# I'll start plotting at x=1 instead of x=0, since j'(0) doesn't exist\n",
        "xVals = np.arange(1,2000, 1) \n",
        "plt.plot(xVals, djdx(xVals))\n",
        "plt.hlines(0, 0, 2000) # draw the x-axis\n",
        "plt.title(\"Graph of j'(x)\")\n",
        "plt.show()"
      ],
      "execution_count": null,
      "outputs": []
    },
    {
      "cell_type": "markdown",
      "metadata": {
        "id": "7vUeGsZzPYVC"
      },
      "source": [
        "This is pretty compelling evidence that there's only one critical point, since it looks like just the one place that $j'(x) = 0$. This means that the local minimum that we found using Newton's Method is an absolute minimum."
      ]
    },
    {
      "cell_type": "markdown",
      "metadata": {
        "id": "eXyhZda_QoHf"
      },
      "source": [
        "# Your Turn\n",
        "\n",
        "Let's do some more!\n",
        "\n",
        "We'll be working with the same two libraries that we have been all semester. Run the next block of code, and also remember that you'll need to run this little chunk of code every time you open the lab."
      ]
    },
    {
      "cell_type": "code",
      "metadata": {
        "id": "tpfsu5pZTMBr"
      },
      "source": [
        "import numpy as np \n",
        "from matplotlib import pyplot as plt"
      ],
      "execution_count": null,
      "outputs": []
    },
    {
      "cell_type": "markdown",
      "metadata": {
        "id": "sWnc6NriUBQG"
      },
      "source": [
        "Now we'll take a look at some more examples. Let's first return to our initial example with the intersection points."
      ]
    },
    {
      "cell_type": "markdown",
      "metadata": {
        "id": "aBG8j-kIV8ya"
      },
      "source": [
        "## Revisiting Intersection Points\n",
        "\n",
        "Let's go back to the first example we looked at with the intersection points between $y=e^x$ and $y=x^3$.\n",
        "\n",
        "Use Newton's Method to find the second intersection point."
      ]
    },
    {
      "cell_type": "code",
      "metadata": {
        "id": "ZZ2gJHfoWkVz"
      },
      "source": [
        "# Use this chunk of code to find the second intersection point.\n"
      ],
      "execution_count": null,
      "outputs": []
    },
    {
      "cell_type": "markdown",
      "metadata": {
        "id": "idDX6ypZWocL"
      },
      "source": [
        "### Follow-Up Questions\n",
        "\n",
        "*Include your answer underneath each question.*\n",
        "\n",
        "------\n",
        "\n",
        "*1. What does this $x$-value* represent in terms of the relationship between $e^x$ and $x^3$? Feel free to link this back to growth rates of functions, since this is how we introduced this whole idea.*\n",
        "\n",
        "\n",
        "-------"
      ]
    },
    {
      "cell_type": "markdown",
      "metadata": {
        "id": "81ikHkx7ZO-G"
      },
      "source": [
        "## More Absolute Extrema\n",
        "\n",
        "You're going to find any absolute extrema for the function $y = 5\\sin(x-2)e^{-(x-2)^2}-x$ on the interval $[0,2]$. In order to find critical points, you're going to need to solve $y'=0$, and this is where you'll use Newton's Method.\n",
        "\n",
        "(Notice that the derivatives $y'$ and $y''$ might be annoying to find: feel free to confirm your derivatives with others!)"
      ]
    },
    {
      "cell_type": "code",
      "metadata": {
        "id": "T0K391csozKP"
      },
      "source": [
        "# Use this chunk of code to define the derivatives you'll need.\n"
      ],
      "execution_count": null,
      "outputs": []
    },
    {
      "cell_type": "markdown",
      "metadata": {
        "id": "xNOD6GqCzyh3"
      },
      "source": [
        "We might recall that it could be nice to have a general idea of what this function looks like on this interval. Let's graph the function on the interval $[0,2]$."
      ]
    },
    {
      "cell_type": "code",
      "metadata": {
        "id": "lTCR9-YSz64N"
      },
      "source": [
        "# Use this chunk of code to graph the function on [0,2].\n"
      ],
      "execution_count": null,
      "outputs": []
    },
    {
      "cell_type": "markdown",
      "metadata": {
        "id": "3P0mPpVaz_r3"
      },
      "source": [
        "We might have a better idea on how to find these absolute extrema. Make note, though, that we should *show* that the $x$-values we find for the absolute extrema actually match with the absolute maximum/minimum $y$-value."
      ]
    },
    {
      "cell_type": "code",
      "metadata": {
        "id": "O1YiCcw6o6jW"
      },
      "source": [
        "# Use this chunk of code to find the absolute extrema.\n"
      ],
      "execution_count": null,
      "outputs": []
    },
    {
      "cell_type": "markdown",
      "metadata": {
        "id": "m776JgMmrDvl"
      },
      "source": [
        "### Follow-Up Questions\n",
        "\n",
        "*Include your answer underneath each question.*\n",
        "\n",
        "------\n",
        "\n",
        "*2. Report the absolute extrema you found. Give the approximate $x$ and $y$-value(s). Justify your answers.* \n",
        "\n",
        "-------"
      ]
    },
    {
      "cell_type": "markdown",
      "metadata": {
        "id": "ovG64MI9rtXd"
      },
      "source": [
        "## Investigating the Initial Guess\n",
        "\n",
        "Let's investigate the following function: $y = x^3-2x+2$. We're going to try to find the $x$-intercept. Try using Newton's Method a couple of times with the following initial guesses: 0, 1, a value between 0 and 1, and a value bigger than 1."
      ]
    },
    {
      "cell_type": "code",
      "metadata": {
        "id": "yYZorgxXwMJL"
      },
      "source": [
        "# Use this chunk of code to define y, the derivative, \n",
        "# and then do the four different Newton's Method.\n"
      ],
      "execution_count": null,
      "outputs": []
    },
    {
      "cell_type": "markdown",
      "metadata": {
        "id": "jIoXY5NN3G9l"
      },
      "source": [
        "### Follow-Up Questions\n",
        "\n",
        "*Include your answer underneath each question.*\n",
        "\n",
        "------\n",
        "\n",
        "*3. Explain what happened for each initial guess. What do you think the actual $x$-intercept is? Why?* \n",
        "\n",
        "-------"
      ]
    },
    {
      "cell_type": "markdown",
      "metadata": {
        "id": "d88hdlh73c_Y"
      },
      "source": [
        "## More Fun With Initial Guesses\n",
        "\n",
        "Here's a fun one. Let's consider the function \n",
        "\n",
        "$$ \n",
        "  y=-288 + 2880 x - 11314 x^2 + 21785 x^3 - 20523 x^4 + 7560 x^5\n",
        "$$\n",
        "\n",
        "This function has 5 real $x$-intercepts. We could do some algebra and stuff and find all 5 of these, but let's use Newton's Method.\n",
        "\n",
        "The hint I'll give is that the $x$-intercepts are all between $x=0$ and $x=4$. Use Newton's method with different starting points to try to find all of the $x$-intercepts. \n"
      ]
    },
    {
      "cell_type": "code",
      "metadata": {
        "id": "ifVgNm5W56vK"
      },
      "source": [
        "# Use this chunk of code to define the function and the derivative.\n"
      ],
      "execution_count": null,
      "outputs": []
    },
    {
      "cell_type": "code",
      "metadata": {
        "id": "-fyqMrBH5_fa"
      },
      "source": [
        "# Use this chunk of code to do Newton's method with different starting points.\n",
        "# Show all of your attempts.\n"
      ],
      "execution_count": null,
      "outputs": []
    },
    {
      "cell_type": "markdown",
      "metadata": {
        "id": "W3KORfmN0SUf"
      },
      "source": [
        "Are you frustrated yet? You've likely found that this is annoying or hard to do. Let's go back a step and try plotting the function on the interval $[0,4]$ in order to get some visual context. This might help us find the remaining $x$-intercepts using Newton's Method."
      ]
    },
    {
      "cell_type": "code",
      "metadata": {
        "id": "bozB6alM0j6g"
      },
      "source": [
        "# Use this chunk of code to graph the function on the interval [0,4]."
      ],
      "execution_count": null,
      "outputs": []
    },
    {
      "cell_type": "markdown",
      "metadata": {
        "id": "9Kg5UxFE0oPy"
      },
      "source": [
        "Finish up by finding whatever $x$-intercepts you hadn't found yet."
      ]
    },
    {
      "cell_type": "code",
      "metadata": {
        "id": "xl2-FDeM0RQ8"
      },
      "source": [
        "# Use this chunk of code to continue doing Newton's method with different starting points.\n",
        "# Show all of your attempts.\n"
      ],
      "execution_count": null,
      "outputs": []
    },
    {
      "cell_type": "markdown",
      "metadata": {
        "id": "71gzckJD6KSm"
      },
      "source": [
        "### Follow-Up Questions\n",
        "\n",
        "*Include your answer underneath each question.*\n",
        "\n",
        "------\n",
        "\n",
        "*4. List the $x$-intercepts you found.*\n",
        "\n",
        "*5. How many attempts did it take for you to find all 5 $x$-intercepts? Why do you think it took that many attempts?*\n",
        "\n",
        "-------"
      ]
    }
  ]
}