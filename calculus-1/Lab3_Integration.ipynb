{
  "nbformat": 4,
  "nbformat_minor": 0,
  "metadata": {
    "colab": {
      "name": "Lab3_Integration.ipynb",
      "provenance": [],
      "collapsed_sections": [
        "o88J_y5gCVYZ"
      ],
      "authorship_tag": "ABX9TyPmA60kinhXED+61NMx51BF",
      "include_colab_link": true
    },
    "kernelspec": {
      "name": "python3",
      "display_name": "Python 3"
    }
  },
  "cells": [
    {
      "cell_type": "markdown",
      "metadata": {
        "id": "view-in-github",
        "colab_type": "text"
      },
      "source": [
        "<a href=\"https://colab.research.google.com/github/peterkeep/calculus-labs/blob/master/calculus-1/Lab3_Integration.ipynb\" target=\"_parent\"><img src=\"https://colab.research.google.com/assets/colab-badge.svg\" alt=\"Open In Colab\"/></a>"
      ]
    },
    {
      "cell_type": "markdown",
      "metadata": {
        "id": "o88J_y5gCVYZ"
      },
      "source": [
        "Lab 3: Integration\n",
        "==================================\n",
        "\n",
        "**Name:**\n",
        "\n",
        "**Due Date:** \n",
        "\n",
        "# Instructions\n",
        "\n",
        "Follow through the Leading Examples section, and then complete the Your Turn section. You'll work with Riemann Sums to approximate definite integrals, and investigate transformations of regions due to $u$-substitution.\n",
        "\n",
        "Answer the Follow-Up Questions after each section by typing your answers under each question.\n",
        "\n",
        "Type your name and due date on the top of this lab.\n",
        "\n",
        "Submit the file on Canvas through the assignment submission for Lab 3."
      ]
    },
    {
      "cell_type": "markdown",
      "metadata": {
        "id": "ysw6PhTKC_LO"
      },
      "source": [
        "# Leading Examples\n",
        "\n",
        "In these examples, we'll dive into constructing Riemann Sums. We'll need to load the normal `pyplot` from `matplotlib` as well as `numpy` libraries."
      ]
    },
    {
      "cell_type": "code",
      "metadata": {
        "id": "24IPFt5hDRaY"
      },
      "source": [
        "from matplotlib import pyplot as plt\n",
        "import numpy as np"
      ],
      "execution_count": null,
      "outputs": []
    },
    {
      "cell_type": "markdown",
      "metadata": {
        "id": "cSSbgQ37DY3F"
      },
      "source": [
        "## Drawing Riemann Sums\n",
        "\n",
        "We'll worry about calculating Riemann Sums a little later: first, let's plot them. We're going to need to graph our function on some interval (which will be familiar) but then we'll add rectangles built on some partition.\n",
        "\n",
        "Let's first plot a function on an interval: $f(x) = 12-x^2+0.1x^3$ on $[0,10]$."
      ]
    },
    {
      "cell_type": "code",
      "metadata": {
        "id": "IZrEFqT0Fe2B"
      },
      "source": [
        "def f(x):\n",
        "  return 12 - x**2 + 0.1 * x**3\n",
        "\n",
        "xVals = np.arange(0, 10, 0.01)\n",
        "\n",
        "plt.plot(xVals, f(xVals))\n",
        "plt.title(\"Plot of f(x) on [0,10]\")\n",
        "plt.show()"
      ],
      "execution_count": null,
      "outputs": []
    },
    {
      "cell_type": "markdown",
      "metadata": {
        "id": "mGpuACffF5DZ"
      },
      "source": [
        "Now we'll add the rectangles.\n",
        "\n",
        "Let's look at the Riemann Sum $L_8$ (a left sum with 8 rectangles).\n",
        "\n",
        "We'll need to define:\n",
        "- $n=8$\n",
        "- $\\Delta x = \\frac{b-a}{n} = \\frac{10}{8} = 1.25$\n",
        "- a list of the left-most $x$-values from each subinterval. That's going to be $\\{0, 1.25, 2.5, ..., 8.75\\}$, since we're counting from 0 to 10 by $\\Delta x = 1.25$."
      ]
    },
    {
      "cell_type": "code",
      "metadata": {
        "id": "M5-odALvH_XH"
      },
      "source": [
        "n = 8\n",
        "deltaX = (10 - 0) / n\n",
        "xLeftPartition = np.arange(0, 10, deltaX)"
      ],
      "execution_count": null,
      "outputs": []
    },
    {
      "cell_type": "markdown",
      "metadata": {
        "id": "sDipIomFIVlG"
      },
      "source": [
        "Now we need to plot the function again, but this time add the rectangles. We'll use the `plt.bar()` command. Here is what the inputs to that command represent:\n",
        "- `xLeftPartition` will be the $x$-value that defines the bar (so I have a bar at each partition value).\n",
        "- `f(xLeftPartition)` is the height of each bar.\n",
        "- `width = deltaX` is saying that each bar has a width of $\\Delta x$ (which is 1.25 for now). The default is 0.8, which obviously won't help us.\n",
        "- `bottom = 0` says that the bottom of each bar should be on the $x$-axis, at $y=0$. The default is 0, so each bar would sit on the $x$-axis, so we technically don't need to include this.\n",
        "- ` alpha=0.2` is a measure of transparency, so the bars will be pretty see-through.\n",
        "- `edgecolor='blue'` is exactly what it sounds like: the border/edge of each bar will be blue.\n",
        "- `align='edge'` defines how the bar meets up with the functions: the default is 'center,' but we're using a left-sum here, so we will use this."
      ]
    },
    {
      "cell_type": "code",
      "metadata": {
        "id": "74Up-u_xJIx2"
      },
      "source": [
        "plt.plot(xVals, f(xVals)) # the original plot from above\n",
        "plt.bar(xLeftPartition, f(xLeftPartition), width = deltaX, \n",
        "        bottom = 0, alpha = 0.2, edgecolor = 'blue', align = 'edge')\n",
        "plt.title(\"Left-Riemann Sum with 8 Rectangles\")\n",
        "plt.show()"
      ],
      "execution_count": null,
      "outputs": []
    },
    {
      "cell_type": "markdown",
      "metadata": {
        "id": "vyVt-C97J4Aj"
      },
      "source": [
        "## Approximating the Areas\n",
        "\n",
        "Ok, in the example above, we have a Riemann sum that we can use to approximate the signed area bounded by the graph of $f(x) = 12 - x^2 + 0.1x^3$  and the $x$-axis between $x=0$ and $x=10$.\n",
        "\n",
        "This area approximation is:\n",
        "\n",
        "$$\n",
        "  \\sum_{k=1}^{8} f(x_k^*)\\Delta x\n",
        "$$\n",
        "\n",
        "where $x_k^*$ for $k=1,2,...,8$ are the left-most $x$-values from each subinterval.\n",
        "\n",
        "Let's use the `sum()` command, which will add the values inside of it."
      ]
    },
    {
      "cell_type": "code",
      "metadata": {
        "id": "vEprPd_mLxBK"
      },
      "source": [
        "Area = sum(f(xLeftPartition) * deltaX)\n",
        "print(Area)"
      ],
      "execution_count": null,
      "outputs": []
    },
    {
      "cell_type": "markdown",
      "metadata": {
        "id": "59GeW-VWL5O5"
      },
      "source": [
        "We can also note that since $\\Delta x$ is constant for each rectangle, we can \"factor\" it out of the sum and get the same value: \n",
        "\n",
        "$$\n",
        "  \\Delta x \\sum_{k=1}^8 f(x_k^*)\n",
        "$$"
      ]
    },
    {
      "cell_type": "code",
      "metadata": {
        "id": "5B2wIqJnMBmn"
      },
      "source": [
        "AltArea = deltaX * sum(f(xLeftPartition))\n",
        "print(AltArea)"
      ],
      "execution_count": null,
      "outputs": []
    },
    {
      "cell_type": "markdown",
      "metadata": {
        "id": "FUT9DwGWMweo"
      },
      "source": [
        "## Better Approximation\n",
        "\n",
        "We can note that if we chose to do something like an $M_8$ approximation, we'd likely have a better approximation: we'd essentially find a kind of half-way point between a left and right approximation.\n",
        "\n",
        "Let's re-do our partition, and then tinker with the options when we plot the Riemann sum."
      ]
    },
    {
      "cell_type": "code",
      "metadata": {
        "id": "LNmoUkJHQ_VJ"
      },
      "source": [
        "xMidPartition = np.arange(0.75, 10, deltaX)\n",
        "print(xMidPartition) # Just to make sure it's right!\n",
        "\n",
        "plt.plot(xVals, f(xVals))\n",
        "plt.bar(xMidPartition, f(xMidPartition), width = deltaX, \n",
        "        bottom = 0, alpha = 0.2, color = 'red', edgecolor = 'red', \n",
        "        align = 'center')\n",
        "plt.title(\"Midpoint Approximation\")\n",
        "plt.show()\n",
        "\n",
        "# Area Approximation\n",
        "AreaMid = deltaX * sum(f(xMidPartition))\n",
        "print(AreaMid)"
      ],
      "execution_count": null,
      "outputs": []
    },
    {
      "cell_type": "markdown",
      "metadata": {
        "id": "dt_CyhObSwWO"
      },
      "source": [
        "## Approaching a Definite Integral\n",
        "\n",
        "We have found some rough approximations for the signed area bounded by the curve $f(x) = 12-x^2+0.1x^3$ and the $x$-axis between $x=0$ and $x=10$ above. We'd like move towards getting the exact thing:\n",
        "\n",
        "$$\n",
        "  \\int_0^{10} f(x)\\;dx\n",
        "$$\n",
        "\n",
        "We know that:\n",
        "\n",
        "$$\n",
        "  \\int_0^{10} f(x)\\;dx = \\lim_{n\\to\\infty} \\sum_{k=1}^n f(x_k^*) \\Delta x\n",
        "$$\n",
        "\n",
        "So we can get a very good approximation of this limit. Remember back to Lab 1 when we approximated limits. Let's just make $n$ very large and see what happens!\n",
        "\n"
      ]
    },
    {
      "cell_type": "code",
      "metadata": {
        "id": "ZP83eIwHY2Ux"
      },
      "source": [
        "n = 1000\n",
        "deltaX = (10 - 0) / n\n",
        "xFinePartition = np.arange(0, 10, deltaX)\n",
        "\n",
        "plt.plot(xVals, f(xVals)) # the original plot from above\n",
        "plt.bar(xFinePartition, f(xFinePartition), width = deltaX, \n",
        "        bottom = 0, alpha = 0.2, edgecolor = 'blue', align = 'edge')\n",
        "plt.title(\"Area Approximation\")\n",
        "plt.show()\n",
        "\n",
        "Area = deltaX * sum(f(xFinePartition))\n",
        "print(Area)"
      ],
      "execution_count": null,
      "outputs": []
    },
    {
      "cell_type": "markdown",
      "metadata": {
        "id": "osQWr00uj46q"
      },
      "source": [
        "Look at the area: you can barely see the edges of the rectangles, so we've essentially just shaded in the area, and it looks like whatever our approximation is, it's super close to the actual value. We can compare this to the *actual* value of the definite integral. We know that we can use the Fundamental Theorem of Calculus:\n",
        "\n",
        "$$\n",
        "  \\begin{aligned}\n",
        "    \\int_0^{10} 12-x^2+0.1x^3\\;dx &= \\left( 12x - \\frac{x^3}{3} + \\frac{0.1x^4}{4} \\middle) \\right|_{0}^{10}\\\\\n",
        "    & = \\left( 12(10) - \\frac{10^3}{3} + \\frac{0.1(10^4)}{4}\\right) - (0)\\\\\n",
        "    & = 120 - \\frac{1000}{3} + \\frac{1000}{4} = \\frac{110}{3}\\\\\n",
        "    & = 36.666...\n",
        "  \\end{aligned}\n",
        "$$\n",
        "\n",
        "We can compare these pretty easily!"
      ]
    },
    {
      "cell_type": "code",
      "metadata": {
        "id": "VAa-gH2qk_lF"
      },
      "source": [
        "ActualArea = 120 - 1000 / 3 + 1000 / 4\n",
        "PercentError = (Area - ActualArea) / ActualArea\n",
        "print(PercentError)"
      ],
      "execution_count": null,
      "outputs": []
    },
    {
      "cell_type": "markdown",
      "metadata": {
        "id": "1480oxgglSX1"
      },
      "source": [
        "So our above approximation is an overestimate of the actual signed area by around $0.000002273\\%$."
      ]
    },
    {
      "cell_type": "markdown",
      "metadata": {
        "id": "99bSOAiJluEC"
      },
      "source": [
        "# Your Turn\n",
        "\n",
        "Ok, so we'll actuall do this now. We'll look at a couple of different things:\n",
        "\n",
        "- Building some small Riemann Sums (left and midpoint)\n",
        "- Approximating signed areas\n",
        "- How does $u$-substitution manipulate areas?\n",
        "\n",
        "Just in case you haven't done it yet, let's load the normal libraries."
      ]
    },
    {
      "cell_type": "code",
      "metadata": {
        "id": "ZfO3lV9rpUTu"
      },
      "source": [
        "from matplotlib import pyplot as plt\n",
        "import numpy as np"
      ],
      "execution_count": null,
      "outputs": []
    },
    {
      "cell_type": "markdown",
      "metadata": {
        "id": "sUH4MEaPpZI0"
      },
      "source": [
        "## Small Riemann Sums\n",
        "\n",
        "Let's define a new function, $g(x) = x^2\\sin(x^3)$ that we'll use for the rest of this lab."
      ]
    },
    {
      "cell_type": "code",
      "metadata": {
        "id": "XX-1FGnTrUJe"
      },
      "source": [
        "# Use this chunk of code to define the function g(x)\n"
      ],
      "execution_count": null,
      "outputs": []
    },
    {
      "cell_type": "markdown",
      "metadata": {
        "id": "ltKfy9qsrZOh"
      },
      "source": [
        "Let's build some small Riemann sums to approximate the area bounded by the graph of $g(x)$ and the $x$-axis from $x=0$ to $x=\\sqrt[3]{\\pi}$.\n",
        "\n",
        "But first, let's graph the function $g(x)$ on the interval $[0,\\sqrt[3]{\\pi}]$. You can use the code `np.pi ** (1/3)` since $\\sqrt[3]{\\pi} = \\pi^{1/3}$."
      ]
    },
    {
      "cell_type": "code",
      "metadata": {
        "id": "5QN0hb22s37K"
      },
      "source": [
        "# Use this chunk of code to graph g(x) on the interval\n"
      ],
      "execution_count": null,
      "outputs": []
    },
    {
      "cell_type": "markdown",
      "metadata": {
        "id": "KyqAR8dytJ30"
      },
      "source": [
        "Ok, now let's look at the Riemann sums.\n",
        "\n",
        "Let's build a left-sum with $n=6$ rectangles, $L_6$ first. Graph the Riemann sum and print the actual value of the sum."
      ]
    },
    {
      "cell_type": "code",
      "metadata": {
        "id": "1kRm-Yqqtcw5"
      },
      "source": [
        "# Use this chunk of code to build the Riemann Sum (L6), graph it, and evaluate it\n"
      ],
      "execution_count": null,
      "outputs": []
    },
    {
      "cell_type": "markdown",
      "metadata": {
        "id": "AGIgsAm8tqIR"
      },
      "source": [
        "Let's compare this with a midpoint approximation with the same number of rectangles, $M_6$."
      ]
    },
    {
      "cell_type": "code",
      "metadata": {
        "id": "I3LPOy1Bt3mN"
      },
      "source": [
        "# Use this chunk of code to build the Riemann Sum (M6), graph it, and evaluate it\n"
      ],
      "execution_count": null,
      "outputs": []
    },
    {
      "cell_type": "markdown",
      "metadata": {
        "id": "KuB7CrfXuN0V"
      },
      "source": [
        "\n",
        "### Follow-Up Questions\n",
        "\n",
        "*Include your answers underneath each question.*\n",
        "\n",
        "--------\n",
        "\n",
        "1. *How different were your Riemman Sums? What does this make you believe about the accuracy of these Riemann Sums as an approximation of the area bounded by $g(x)$ and the $x$-axis* on the interval $[0,\\sqrt[3]{\\pi}]$?\n",
        "\n",
        "\n",
        "\n",
        "\n",
        "---------"
      ]
    },
    {
      "cell_type": "markdown",
      "metadata": {
        "id": "6Z-ZnEilwwzW"
      },
      "source": [
        "## A Better Approximation\n",
        "\n",
        "Let's approximate the integral $\\int_0^{\\sqrt[3]{\\pi}} x^2\\sin(x^3)\\;dx$ using a Riemann Sum.\n",
        "\n",
        "You can decide whether you want to use a Left or a Midpoint approximation, but use more than 1000 rectangles.\n",
        "\n",
        "First, graph the Rieman Sum."
      ]
    },
    {
      "cell_type": "code",
      "metadata": {
        "id": "PxUQfwdWxswS"
      },
      "source": [
        "# Use this chunk to graph your Riemann Sum/shade the area\n"
      ],
      "execution_count": null,
      "outputs": []
    },
    {
      "cell_type": "markdown",
      "metadata": {
        "id": "uokhmpLNxwoq"
      },
      "source": [
        "Now calculate the approximate area."
      ]
    },
    {
      "cell_type": "code",
      "metadata": {
        "id": "Ngxix2wwyClW"
      },
      "source": [
        "# Use this chunk of code to calculate the area approximated above\n"
      ],
      "execution_count": null,
      "outputs": []
    },
    {
      "cell_type": "markdown",
      "metadata": {
        "id": "0zsoS7JIyGxt"
      },
      "source": [
        "\n",
        "### Follow-Up Questions\n",
        "\n",
        "*Include your answers underneath each question.*\n",
        "\n",
        "--------\n",
        "\n",
        "2. *Did you use a Left or Midpoint approximation? Does it matter much in terms of accuracy? Why or why not?*\n",
        "\n",
        "3. *What is the actual value of the definite integral? How close was your approximation?*\n",
        "\n",
        "4. *How could you make this approximation better? What are the drawbacks of your approach? HINT: try it yourself!*\n",
        "\n",
        "\n",
        "\n",
        "---------"
      ]
    },
    {
      "cell_type": "markdown",
      "metadata": {
        "id": "vpVfC517yy0s"
      },
      "source": [
        "## Substitution\n",
        "\n",
        "When you found the actual value of the definite integral in Follow-Up Question #3, you used $u$-substitution to evaluate the integral (if you didn't, go back and do that).\n",
        "\n",
        "Let's look at *that* integral, with the new/substituted limits of integration.\n",
        "\n",
        "### Write the New Integral Here\n",
        "\n",
        "**Limits of integration:** \n",
        "\n",
        "**Function:** \n",
        "\n",
        "Graph original region *and* the new region from the new integral on the same set of axes (in the same graph)."
      ]
    },
    {
      "cell_type": "code",
      "metadata": {
        "id": "eZIxdI4q07sl"
      },
      "source": [
        "# Use this chunk of code to graph the two regions on the same axes\n"
      ],
      "execution_count": null,
      "outputs": []
    },
    {
      "cell_type": "markdown",
      "metadata": {
        "id": "ev-ocPlk1CQX"
      },
      "source": [
        "Approximate the new definite integral you found using a Riemann sum with the around the same number of rectangles you used above."
      ]
    },
    {
      "cell_type": "code",
      "metadata": {
        "id": "SxJ7mfAF1YhC"
      },
      "source": [
        "# Use this chunk of code to approximate the new integral\n"
      ],
      "execution_count": null,
      "outputs": []
    },
    {
      "cell_type": "markdown",
      "metadata": {
        "id": "0jnrCMGA2EoB"
      },
      "source": [
        "### Follow-Up Questions\n",
        "\n",
        "*Include your answers underneath each question.*\n",
        "\n",
        "--------\n",
        "\n",
        "5. *Consider the two regions we've graphed: one for the integral $\\int_0^\\sqrt[3]{\\pi} x^2\\sin(x^3)\\;dx$* and the other for the new integral we've built using $u$-substitution. By now you know that these integrals are the same, meaning the areas represented are the same. What happens, then, when we change the function and the limits of integration? How does the area stay the same?\n",
        "\n",
        "\n",
        "---------"
      ]
    }
  ]
}