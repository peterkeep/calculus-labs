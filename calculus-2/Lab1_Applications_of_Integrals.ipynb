{
  "nbformat": 4,
  "nbformat_minor": 0,
  "metadata": {
    "kernel_info": {
      "name": "python3"
    },
    "colab": {
      "name": "Lab1_Applications_of_Integrals.ipynb",
      "private_outputs": true,
      "provenance": [],
      "collapsed_sections": [],
      "include_colab_link": true
    },
    "kernelspec": {
      "name": "python3",
      "display_name": "Python 3"
    }
  },
  "cells": [
    {
      "cell_type": "markdown",
      "metadata": {
        "id": "view-in-github",
        "colab_type": "text"
      },
      "source": [
        "<a href=\"https://colab.research.google.com/github/peterkeep/calculus-labs/blob/master/calculus-2/Lab1_Applications_of_Integrals.ipynb\" target=\"_parent\"><img src=\"https://colab.research.google.com/assets/colab-badge.svg\" alt=\"Open In Colab\"/></a>"
      ]
    },
    {
      "cell_type": "markdown",
      "metadata": {
        "id": "oSPeQw4YNxrb"
      },
      "source": [
        "# SAVE THIS LAB TO YOUR GOOGLE DRIVE\n",
        "\n",
        "You can make a copy of this lab in your Google Drive by either clicking the `Copy to Drive` button above, or by navigating to `File` -> `Save a copy in Drive`.\n",
        "\n",
        "**If you don't do this, your changes will not be saved.**\n"
      ]
    },
    {
      "cell_type": "markdown",
      "metadata": {
        "format": "text/markdown",
        "id": "4oPDjICib33n"
      },
      "source": [
        "Lab 1: Applications and Integrals\n",
        "==================================\n",
        "\n",
        "**Name:**\n",
        "\n",
        "**Due Date:** \n",
        "\n",
        "# Instructions\n",
        "\n",
        "Follow through the Leading Examples section, and then complete the Your Turn section:\n",
        "- Area Between Curves\n",
        "- Volume\n",
        "  - Disks/Washers\n",
        "  - Shells\n",
        "- Surface Area\n",
        "\n",
        "Your task in this lab is to follow the Leading Examples, and complete the Your Turn sections, where you will write similar code to perform similar functions. There will also be Follow-Up Questions: you can answer these by typing your answers under each question.\n",
        "\n",
        "Type your name and due date on the top of this lab.\n",
        "\n",
        "Submit the file on Canvas through the assignment submission for Lab 1.\n",
        "\n",
        "\n",
        "# Leading Examples\n",
        "\n",
        "An interesting function that we'll look at several times this semester is $y=\\sin(x^2)$. One of the most interesting features of this function is that while it is continuous for all real numbers, it does not have an \"elementary\" antiderivative: it has an antiderivative family, but it cannot be written down with our basic function types.\n",
        "\n",
        "For this leading example, we'll investigate the area between $f(x) = \\sin(x^2)$ and $g(x) = 2x$ on the interval $[0,2]$. Since $2x>\\sin(x^2)$ on this interval, the integral expression that we would use is:\n",
        "$$\n",
        "\\int_0^2 2x-\\sin(x^2)\\;dx\n",
        "$$\n",
        "Obviously this is a problem, since we can't integrate that by hand: we can't write down an antiderivative function for $\\sin(x^2)$.\n",
        "\n",
        "In this lab, we'll use Riemann sums to approximate integrals, and get good estimations of things like this area.\n",
        "\n",
        "We'll need to import some python libraries, so make sure you include the following code at the beginning of your lab. Run the following chunk of code now, to include them.\n",
        "\n"
      ]
    },
    {
      "cell_type": "code",
      "metadata": {
        "autoscroll": "auto",
        "options": {
          "caption": false,
          "complete": true,
          "display_data": true,
          "display_stream": true,
          "dpi": 200,
          "echo": true,
          "evaluate": false,
          "f_env": null,
          "f_pos": "htpb",
          "f_size": [
            6,
            4
          ],
          "f_spines": true,
          "fig": true,
          "include": true,
          "name": null,
          "option_string": "evaluate = False",
          "results": "verbatim",
          "term": false,
          "wrap": "output"
        },
        "id": "x_38UV1Ib33q"
      },
      "source": [
        "import numpy as np\n",
        "from matplotlib import pyplot as plt"
      ],
      "execution_count": null,
      "outputs": []
    },
    {
      "cell_type": "markdown",
      "metadata": {
        "format": "text/markdown",
        "id": "rrbOc5jqb335"
      },
      "source": [
        "Let's plot the two functions, to get a good visualization of the area we're considering. We'll plot $f(x) = \\sin(x^2)$ and $g(x) = 2x$ on the interval $[0,2]$.\n",
        "\n",
        "## Plot\n",
        "\n",
        "We use the following code to plot the two functions $f$ and $g$ on the interval $[0,2]$.\n",
        "\n",
        "First, I'm going to just set up my interval, using the placeholder variables `a = 0` and `b = 2`. From here on out, I can just use `a` and `b` when I refer to these, which is great because if I repeat this problem with a new interval, I only have to change the values of `a` and `b` at the beginning.\n",
        "\n",
        "I'm going to set up a list of $x$-values to use for my graph. I'm not going to worry about the fact that `np.arange()` doesn't actually count up to the end point: I'll make my step size so small that it won't matter anyways.\n",
        "\n",
        "After that, I define the functions $f(x)$ and $g(x)$. Note that the double asterisk, `**`, represents an exponent, so `x**2` is $x^2$. Also note that I need to call the sine function from the `numpy` library. We'll use this `np.` prefix for our trig functions, square roots, and even pi.\n",
        "\n",
        "Finally, I plot the functions (using the $x$-values I defined earlier), add a title to the graph, and display the graph using the last four lines.\n",
        "\n",
        "The `plt.plot(x, y)` takes in some list of $x$-values and corresponding $y$-values, and then plots those points.\n",
        "\n"
      ]
    },
    {
      "cell_type": "code",
      "metadata": {
        "autoscroll": "auto",
        "options": {
          "caption": false,
          "complete": true,
          "display_data": true,
          "display_stream": true,
          "dpi": 200,
          "echo": true,
          "evaluate": false,
          "f_env": null,
          "f_pos": "htpb",
          "f_size": [
            6,
            4
          ],
          "f_spines": true,
          "fig": true,
          "include": true,
          "name": null,
          "option_string": "evaluate = False",
          "results": "verbatim",
          "term": false,
          "wrap": "output"
        },
        "id": "3yOnu8vVb339"
      },
      "source": [
        "a = 0\n",
        "b = 2\n",
        "xVals = np.arange(a, b, 0.001)\n",
        "\n",
        "def f(x):\n",
        "    return np.sin(x**2)\n",
        "def g(x):\n",
        "    return 2 * x\n",
        "\n",
        "plt.plot(xVals, f(xVals))\n",
        "plt.plot(xVals, g(xVals))\n",
        "plt.title(\"Graph of f(x) and g(x)\")\n",
        "plt.show()"
      ],
      "execution_count": null,
      "outputs": []
    },
    {
      "cell_type": "markdown",
      "metadata": {
        "format": "text/markdown",
        "id": "jqYSZY_ub34G"
      },
      "source": [
        "This give us a good picture of the graph, and get an idea of the area we're going to be looking at. Notice that there isn't an x-axis or y-axis plotted, but that's ok, since we still have the scale of the axes on the edges of our graph.\n",
        "\n",
        "### Riemann Sum\n",
        "\n",
        "Let's visualize the Riemann sums, in order to see what our calculation in a bit will be doing.\n",
        "\n",
        "I want to start with the same plot as earlier (display both functions $f(x)$ and $g(x)$ on the interval of $x$-values we defined), but I want to add the rectangles for the Riemann sum.\n",
        "\n",
        "Before we do this, we need to set up some variables. I'll use `n = 20` here to represent the 20 rectangles, and then my formula for $\\Delta x$ is just `delt_x = (b - a) / n`.\n",
        "\n",
        "Now I need to do set up a *different* list of $x$-values: the partition for the Riemann sum. This one will count from `a` up to `b` by `delt_x`. Note that since we don't include the endpoint, this is a *left* Riemann sum: we're using the left-most $x$-value from each little subinterval.\n",
        "\n",
        "Now I'll graph my curves (using the `xVals` list from earlier so they're nice and smooth) and the bars at the same time. I can do that using the `plt.bar()` command. Here is what the inputs to that command represent:\n",
        "\n",
        "- `xInt` will be the $x$-value that defines the bar (so I have a bar at each partition value).\n",
        "- `g(xInt)-f(xInt)` is the height of each bar.\n",
        "- `width = delt_x` is saying that each bar has a width of $\\Delta x$ (which is 0.1 for now). The default is 0.8.\n",
        "- `bottom = f(xInt)` says that the bottom of each bar should be on the bottom function, $f(x)$. The default is 0, so each bar would sit on the $x$-axis.\n",
        "- ` alpha=0.2` is a measure of transparency, so the bars will be pretty see-through.\n",
        "- `edgecolor='blue'` is exactly what it sounds like: the border/edge of each bar will be blue.\n",
        "- `align='edge'` defines how the bar meets up with the functions: the default is 'center,' but I want to use left-Riemann sums.\n",
        "\n"
      ]
    },
    {
      "cell_type": "code",
      "metadata": {
        "autoscroll": "auto",
        "options": {
          "caption": false,
          "complete": true,
          "display_data": true,
          "display_stream": true,
          "dpi": 200,
          "echo": true,
          "evaluate": false,
          "f_env": null,
          "f_pos": "htpb",
          "f_size": [
            6,
            4
          ],
          "f_spines": true,
          "fig": true,
          "include": true,
          "name": null,
          "option_string": "evaluate = False",
          "results": "verbatim",
          "term": false,
          "wrap": "output"
        },
        "id": "u6JE4u4Nb34I"
      },
      "source": [
        "n = 20\n",
        "delt_x = (b - a) / n\n",
        "xPartition = np.arange(a, b, delt_x)\n",
        "\n",
        "plt.plot(xVals, f(xVals))\n",
        "plt.plot(xVals, g(xVals))\n",
        "plt.bar(xPartition, g(xPartition) - f(xPartition), width = delt_x, bottom = f(xPartition),\n",
        "        alpha=0.2, edgecolor='blue', align='edge')\n",
        "plt.title(\"Approximation of the Area Bounded by f(x) and g(x)\")\n",
        "plt.show()"
      ],
      "execution_count": null,
      "outputs": []
    },
    {
      "cell_type": "markdown",
      "metadata": {
        "format": "text/markdown",
        "id": "Jq6VrD5Ob34T"
      },
      "source": [
        "Here is our Riemann Sum! Looks great! Note that our Riemann sum is based on the $\\Delta x$ value we defined earlier (with $n=20$). If we wanted to draw a Riemann sum with a different number of rectangles, we'd need to change the partition by changing the value of $n$ and $\\Delta x$.\n",
        "\n",
        "### Approximation of the Area\n",
        "\n",
        "Ok, let's approximate the area between these curves.\n",
        "\n",
        "We know that if $\\Delta x = 0.1$, then we have $n = \\dfrac{b-a}{\\Delta x} = \\dfrac{2}{0.1}=20$. So our Riemann sum for this area should be:\n",
        "$$\n",
        "0.1 \\sum_{k=1}^{20} g(x_k^*)-f(x_k^*)\n",
        "$$\n",
        "where $x_k^*$ is the $x$-value representative for the $k$th subinterval. Below, we write this out in python, and evaluate our Riemann sum.\n",
        "\n",
        "We use the code below to calculate the approximation found by the Riemann sum we've built.\n",
        "\n"
      ]
    },
    {
      "cell_type": "code",
      "metadata": {
        "autoscroll": "auto",
        "options": {
          "caption": false,
          "complete": true,
          "display_data": true,
          "display_stream": true,
          "dpi": 200,
          "echo": true,
          "evaluate": false,
          "f_env": null,
          "f_pos": "htpb",
          "f_size": [
            6,
            4
          ],
          "f_spines": true,
          "fig": true,
          "include": true,
          "name": null,
          "option_string": "evaluate = False",
          "results": "verbatim",
          "term": false,
          "wrap": "output"
        },
        "id": "u9zYIZyRb34W"
      },
      "source": [
        "area = delt_x * sum(g(xPartition) - f(xPartition))\n",
        "print(area)"
      ],
      "execution_count": null,
      "outputs": []
    },
    {
      "cell_type": "markdown",
      "metadata": {
        "format": "text/markdown",
        "id": "6DQlpGaBb34h"
      },
      "source": [
        "\n",
        "What if we would like to change this, so that we had more rectangles for our Riemann sum?\n",
        "\n",
        "Let's use 200 rectangles. That means that $\\Delta x = \\dfrac{2}{200} = 0.01$. Notice that we'll have to redefine our `delt_x` and then `xPartition` to match this, as mentioned earlier.\n",
        "\n"
      ]
    },
    {
      "cell_type": "code",
      "metadata": {
        "autoscroll": "auto",
        "options": {
          "caption": false,
          "complete": true,
          "display_data": true,
          "display_stream": true,
          "dpi": 200,
          "echo": true,
          "evaluate": false,
          "f_env": null,
          "f_pos": "htpb",
          "f_size": [
            6,
            4
          ],
          "f_spines": true,
          "fig": true,
          "include": true,
          "name": null,
          "option_string": "evaluate = False",
          "results": "verbatim",
          "term": false,
          "wrap": "output"
        },
        "id": "90k-0cPEb34j"
      },
      "source": [
        "n = 200\n",
        "delt_x = (b - a) / n\n",
        "print(\"Δx = \", delt_x)\n",
        "\n",
        "xPartition = np.arange(a, b, delt_x)\n",
        "area = delt_x * sum(g(xPartition) - f(xPartition))\n",
        "print(\"Area Approximation = \", area)"
      ],
      "execution_count": null,
      "outputs": []
    },
    {
      "cell_type": "markdown",
      "metadata": {
        "id": "f7KHGbYBx5Td"
      },
      "source": [
        "## Approximating a Volume\n",
        "\n",
        "Ok, so the area works out pretty well. We can get a good approximation of the area bounded by these curves, but what about the volume of a solid of revolution?\n",
        "\n",
        "Let's consider the same region: bounded by $\\sin(x^2)$ and $2x$ between $x=0$ and $x=2$. \n",
        "\n",
        "Now, though, we'll imagine the solid formed when we revolve this region around the horizontal line at $x=-1$. What is the volume?\n",
        "\n",
        "Let's first plot the region. I'm going to copy the code from above, but add a horizontal line for the axis of revolution using `plt.hlines()`. The format for this bit is `plt.hlines(y, xmin, xmax)` where `y` is the $y$-value of the horizontal line, $-1$, and `xmin` and `xmax` give a starting and stopping $x$-value for the line. I'll use $0$ and $2$ for those, since that's the window of $x$-value we're looking at. I also changed the color to grey and made the line dashed."
      ]
    },
    {
      "cell_type": "code",
      "metadata": {
        "id": "-cavZtVkyT0Z"
      },
      "source": [
        "n = 20\n",
        "delt_x = (b - a) / n\n",
        "xPartition = np.arange(a, b, delt_x)\n",
        "\n",
        "plt.plot(xVals, f(xVals))\n",
        "plt.plot(xVals, g(xVals))\n",
        "plt.bar(xPartition, g(xPartition) - f(xPartition), width = delt_x, bottom = f(xPartition),\n",
        "        alpha=0.2, edgecolor='blue', align='edge')\n",
        "plt.hlines(-1, 0, 2, colors = 'grey', linestyles = 'dashed')\n",
        "plt.title(\"A Look at the Cross-Sections of the Washers\")\n",
        "plt.show()"
      ],
      "execution_count": null,
      "outputs": []
    },
    {
      "cell_type": "markdown",
      "metadata": {
        "id": "E3X1vTNTMURI"
      },
      "source": [
        "Note that these are the washers that will be revolved around the axis of revolution! \n",
        "\n",
        "The key here will simply be in figuring out the formula for the Riemann sum. We have a shifted axis of revolution, so the main thing that we can note is that we'll need to *add* a unit to each radius in our washers (since we measure all the way down to $y=-1$ instead of just to $y=0$).\n",
        "\n",
        "$$\n",
        "  V \\approx \\pi\\sum_{k=1}^{20} \\left[(g(x_k^*)+1)^2 - (f(x_k^*)+1)^2\\right] \\Delta x\n",
        "$$"
      ]
    },
    {
      "cell_type": "code",
      "metadata": {
        "id": "g94iat9YPOeR"
      },
      "source": [
        "Volume = np.pi * sum((g(xPartition)+1)**2 - (f(xPartition)+1)**2) * delt_x \n",
        "print(Volume)"
      ],
      "execution_count": null,
      "outputs": []
    },
    {
      "cell_type": "markdown",
      "metadata": {
        "id": "UNGWeFQlPlqJ"
      },
      "source": [
        "And now let's get a really good approximation. Let's turn our value for $n$ up to something large (say, greater than 1000). Note that we'll have to re-do some of the code (like $\\Delta x$ and the partition) to make it all work."
      ]
    },
    {
      "cell_type": "code",
      "metadata": {
        "id": "OIWoC8ziPyLf"
      },
      "source": [
        "n = 2000\n",
        "delt_x = (b - a) / n\n",
        "xPartition = np.arange(a, b, delt_x)\n",
        "Volume = np.pi * sum((g(xPartition)+1)**2 - (f(xPartition)+1)**2) * delt_x \n",
        "print(Volume)"
      ],
      "execution_count": null,
      "outputs": []
    },
    {
      "cell_type": "markdown",
      "metadata": {
        "id": "AkJjsP39P62j"
      },
      "source": [
        "I'll let you think about the differences in these answers, and which one you trust more."
      ]
    },
    {
      "cell_type": "markdown",
      "metadata": {
        "format": "text/markdown",
        "id": "hWz7mUirb34x"
      },
      "source": [
        "\n",
        "# Your Turn\n",
        "\n",
        "Alright, time to set you loose! We'll look at 3 different applications of the definite integral:\n",
        "- Area Between Curves (similar to the Leading Example)\n",
        "- Volume (2 ways)\n",
        "  - Disks/Washers\n",
        "  - Shells\n",
        "- Surface Area\n",
        "\n",
        "## Area Between Curves\n",
        "\n",
        "Re-write and edit the code from the Leading Example above to approximate the area between the functions $f(x) = \\cos(x^2)$ and $g(x) = \\frac{x}{2}+1$ on the interval $[0,3]$.\n",
        "\n",
        "Make sure that your Riemann sum has $n>1000$ rectangles, to make sure that the approximation is \"good\". Note that this will impact your value of $\\Delta x$, which means that your list of $x$-values will be impacted as well (since you'll have more partition points).\n",
        "\n"
      ]
    },
    {
      "cell_type": "code",
      "metadata": {
        "autoscroll": "auto",
        "options": {
          "caption": false,
          "complete": true,
          "display_data": true,
          "display_stream": true,
          "dpi": 200,
          "echo": true,
          "evaluate": true,
          "f_env": null,
          "f_pos": "htpb",
          "f_size": [
            6,
            4
          ],
          "f_spines": true,
          "fig": true,
          "include": true,
          "name": null,
          "option_string": "",
          "results": "verbatim",
          "term": false,
          "wrap": "output"
        },
        "id": "n6ZxZjgmb340"
      },
      "source": [
        "# Use this chunk of code to graph the two functions on the interval."
      ],
      "execution_count": null,
      "outputs": []
    },
    {
      "cell_type": "code",
      "metadata": {
        "autoscroll": "auto",
        "options": {
          "caption": false,
          "complete": true,
          "display_data": true,
          "display_stream": true,
          "dpi": 200,
          "echo": true,
          "evaluate": true,
          "f_env": null,
          "f_pos": "htpb",
          "f_size": [
            6,
            4
          ],
          "f_spines": true,
          "fig": true,
          "include": true,
          "name": null,
          "option_string": "",
          "results": "verbatim",
          "term": false,
          "wrap": "output"
        },
        "id": "JmtmrfU5b34-"
      },
      "source": [
        "# Use this chunk of code to add the Riemann sum rectangles to your plot."
      ],
      "execution_count": null,
      "outputs": []
    },
    {
      "cell_type": "code",
      "metadata": {
        "autoscroll": "auto",
        "options": {
          "caption": false,
          "complete": true,
          "display_data": true,
          "display_stream": true,
          "dpi": 200,
          "echo": true,
          "evaluate": true,
          "f_env": null,
          "f_pos": "htpb",
          "f_size": [
            6,
            4
          ],
          "f_spines": true,
          "fig": true,
          "include": true,
          "name": null,
          "option_string": "",
          "results": "verbatim",
          "term": false,
          "wrap": "output"
        },
        "id": "mygNWYT2b35G"
      },
      "source": [
        "# Use this chunk of code to actually calculate the area that the Riemann sum\n",
        "# is using to approximate the actual area."
      ],
      "execution_count": null,
      "outputs": []
    },
    {
      "cell_type": "markdown",
      "metadata": {
        "format": "text/markdown",
        "id": "kvKx3KBBb35N"
      },
      "source": [
        "\n",
        "### Follow-Up Questions\n",
        "\n",
        "*Include your answers underneath each question.*\n",
        "\n",
        "--------\n",
        "\n",
        "1. *How good is this approximation? In your answer, refer to your graph.*\n",
        "\n",
        "2. *How could you make this approximation better? What are the drawbacks of your approach? HINT: try it yourself!*\n",
        "\n",
        "\n",
        "---------\n",
        "\n",
        "## Volume\n",
        "\n",
        "Finding the area between curves using definite integrals was not a hard concept to get: we could have tackled that in our first semester of calculus most likely! We mostly use it here as a way of brushing up on Riemann sums, so that we can apply them to find other measurements. One of those measurements is the volume of some 3-dimensional object.\n",
        "\n",
        "For now, we'll consider the region above: bounded by the functions $f(x) = \\cos(x^2)$ and $g(x) = \\frac{x}{2}+1$ on the interval $[0,3]$. We'll revolve this region around a horizontal axis as well as a vertical axis, and try to find the volume of each solid. \n",
        "\n",
        "**NOTE:** these two solids (revolved around different axes) are different, and so we expect their volumes to not be the same!\n",
        "\n",
        "### Disks/Washers\n",
        "\n",
        "Recall our integral formula for volumes by washers:\n",
        "\n",
        "> For $g(x)\\geq f(x)$ on $[a,b]$, the volume of the region bounded by $f$ and $g$ on $[a,b]$ revolved around the $x$-axis is:\n",
        "$$\n",
        "V = \\pi\\int_a^b \\left( g(x)^2 - f(x)^2\\right)\\;dx\n",
        "$$\n",
        "\n",
        "Consider the region bounded by the functions $f(x)=\\cos(x^2)$ and $g(x)=\\frac{x}{2}+1$ on the interval $[0,3]$ revolved around the horizontal line at $y=-2$.\n",
        "\n",
        "Plot, first, the region that will be revolved. Add the rectangular cross-sections, again, as you did with the Area Between Curves. This time, though, plot it with $n=10$ rectangles. Note that this will impact your value of $\\Delta x$, which means that your list of $x$-values will be impacted as well.\n",
        "\n",
        "You can also add a horizontal line to the graph to represent the axis of revolution using `plt.hlines()` as we did above.\n",
        "\n"
      ]
    },
    {
      "cell_type": "code",
      "metadata": {
        "autoscroll": "auto",
        "options": {
          "caption": false,
          "complete": true,
          "display_data": true,
          "display_stream": true,
          "dpi": 200,
          "echo": true,
          "evaluate": true,
          "f_env": null,
          "f_pos": "htpb",
          "f_size": [
            6,
            4
          ],
          "f_spines": true,
          "fig": true,
          "include": true,
          "name": null,
          "option_string": "",
          "results": "verbatim",
          "term": false,
          "wrap": "output"
        },
        "id": "EcYDYZAsb35O"
      },
      "source": [
        "# Use this chunk to plot the region you'll be revolving, as well as n=10 rectangular cross-sections."
      ],
      "execution_count": null,
      "outputs": []
    },
    {
      "cell_type": "markdown",
      "metadata": {
        "format": "text/markdown",
        "id": "-tYuA0fbb35Y"
      },
      "source": [
        "Remember, for the approximation of the volume using the washer method, we will consider the volume of the $k$th slice: $V_k = \\pi(g(x_k^*)^2-f(x_k^*)^2)\\Delta x$.\n",
        "\n",
        "Then the approximation of the volume of the whole solid is the sum of the $k$ slices:\n",
        "$$\n",
        "\\begin{aligned}\n",
        "  V &\\approx \\sum_{k=1}^{10} V_k = \\pi \\sum_{k=1}^{10} \\left((g(x_k^*)+2)^2 - (f(x_k^*)+2)^2\\right)\\Delta x\n",
        "\\end{aligned}\n",
        "$$\n",
        "\n",
        "Write out some code to approximate this volume, using this Riemann Sum.\n",
        "\n"
      ]
    },
    {
      "cell_type": "code",
      "metadata": {
        "autoscroll": "auto",
        "options": {
          "caption": false,
          "complete": true,
          "display_data": true,
          "display_stream": true,
          "dpi": 200,
          "echo": true,
          "evaluate": true,
          "f_env": null,
          "f_pos": "htpb",
          "f_size": [
            6,
            4
          ],
          "f_spines": true,
          "fig": true,
          "include": true,
          "name": null,
          "option_string": "",
          "results": "verbatim",
          "term": false,
          "wrap": "output"
        },
        "id": "CwM2MX3eb35a"
      },
      "source": [
        "# Use this chunk of code to approximate the volume using n=10 washers."
      ],
      "execution_count": null,
      "outputs": []
    },
    {
      "cell_type": "markdown",
      "metadata": {
        "format": "text/markdown",
        "id": "fWmrax_Wb35i"
      },
      "source": [
        "\n",
        "Now let $n>1000$ slices, and repeat the process. Note again that $\\Delta x$ will change, but the general form of the Riemann Sum won't:\n",
        "\n",
        "$$\n",
        "V \\approx \\pi \\sum_{k=1}^n \\left((g(x_k^*)+2)^2 - (f(x_k^*)+2)^2\\right)\\Delta x\n",
        "$$\n",
        "\n"
      ]
    },
    {
      "cell_type": "code",
      "metadata": {
        "autoscroll": "auto",
        "options": {
          "caption": false,
          "complete": true,
          "display_data": true,
          "display_stream": true,
          "dpi": 200,
          "echo": true,
          "evaluate": true,
          "f_env": null,
          "f_pos": "htpb",
          "f_size": [
            6,
            4
          ],
          "f_spines": true,
          "fig": true,
          "include": true,
          "name": null,
          "option_string": "",
          "results": "verbatim",
          "term": false,
          "wrap": "output"
        },
        "id": "v3sOmKWCb35j"
      },
      "source": [
        "# Use this chunk of code to approximate the volume using n>1000 washers."
      ],
      "execution_count": null,
      "outputs": []
    },
    {
      "cell_type": "markdown",
      "metadata": {
        "format": "text/markdown",
        "id": "2aeRBniYb35u"
      },
      "source": [
        "\n",
        "\n",
        "\n",
        "\n",
        "### Shells\n",
        "\n",
        "Recall our integral formula for volumes by shells:\n",
        "\n",
        "> For $g(x)\\geq f(x)$ on $[a,b]$, the volume of the region bounded by $f$ and $g$ on $[a,b]$ revolved around the $y$-axis is:\n",
        "$$\n",
        "V = 2\\pi\\int_a^b x\\left(g(x)-f(x)\\right)\\;dx\n",
        "$$\n",
        "\n",
        "Consider (again) the region bounded by the functions $f(x)=\\cos(x^2)$ and $g(x)=\\frac{x}{2}+1$ on the interval $[0,3]$, but this time revolved around the $y$-axis.\n",
        "\n",
        "You can refer to your plot above with $n=10$ rectangles between the two curves.\n",
        "\n",
        "Remember, for the approximation of the volume using the shell method, we will consider the volume of the $k$th slice: $V_k = 2\\pi x_k^*(g(x_k^*)-f(x_k^*))\\Delta x$.\n",
        "\n",
        "Then the approximation of the volume of the whole solid is the sum of the $k$ slices:\n",
        "$$\n",
        "V \\approx \\displaystyle \\sum_{k=1}^{10} V_k = 2\\pi \\sum_{k=1}^{10} x_k^*\\left(g(x_k^*) - f(x_k^*)\\right)\\Delta x = 2\\pi\\sum_{k=1}^{10} x_k^*\\left( g(x_k^*)-f(x_k^*)\\right) \\Delta x \n",
        "$$\n",
        "\n",
        "Write out some code to approximate this volume, using this Riemann Sum.\n",
        "\n"
      ]
    },
    {
      "cell_type": "code",
      "metadata": {
        "autoscroll": "auto",
        "options": {
          "caption": false,
          "complete": true,
          "display_data": true,
          "display_stream": true,
          "dpi": 200,
          "echo": true,
          "evaluate": true,
          "f_env": null,
          "f_pos": "htpb",
          "f_size": [
            6,
            4
          ],
          "f_spines": true,
          "fig": true,
          "include": true,
          "name": null,
          "option_string": "",
          "results": "verbatim",
          "term": false,
          "wrap": "output"
        },
        "id": "fpWn7hK0b35w"
      },
      "source": [
        "# Use this chunk of code to approximate the volume using n=10 shells."
      ],
      "execution_count": null,
      "outputs": []
    },
    {
      "cell_type": "markdown",
      "metadata": {
        "format": "text/markdown",
        "id": "7b8c7U1Eb351"
      },
      "source": [
        "Now try using more slices ($n>1000$ again).\n",
        "\n"
      ]
    },
    {
      "cell_type": "code",
      "metadata": {
        "autoscroll": "auto",
        "options": {
          "caption": false,
          "complete": true,
          "display_data": true,
          "display_stream": true,
          "dpi": 200,
          "echo": true,
          "evaluate": true,
          "f_env": null,
          "f_pos": "htpb",
          "f_size": [
            6,
            4
          ],
          "f_spines": true,
          "fig": true,
          "include": true,
          "name": null,
          "option_string": "",
          "results": "verbatim",
          "term": false,
          "wrap": "output"
        },
        "id": "bp9dvI9Kb353"
      },
      "source": [
        "# Use this chunk of code to approximate the volume using n>1000 shells."
      ],
      "execution_count": null,
      "outputs": []
    },
    {
      "cell_type": "markdown",
      "metadata": {
        "format": "text/markdown",
        "id": "Wtx_g4Vkb35_"
      },
      "source": [
        "\n",
        "### Follow-Up Questions\n",
        "\n",
        "*Include your answers underneath each question.*\n",
        "\n",
        "--------\n",
        "\n",
        "3. *When $n$ increased, what happened with the volumes (in the washer method and the shell method)? Interpret this.*\n",
        "\n",
        "\n",
        "4. *Would you be comfortable using $n=10$ slices in these estimations? Why or why not?*\n",
        "\n",
        "---------\n",
        "\n",
        "## Surface Area\n",
        "\n",
        "It's not hard to come up with examples where evaluating the integral for surface area of a solid of revolution is extremely difficult.\n",
        "\n",
        "Again, though, we'll use one of these functions that we have a hard time integrating by itself.\n",
        "\n",
        "Let's consider the region bounded by the $x$-axis and the function $h(x) = \\tan(x^2)$ on the interval $[-1,1]$. Go ahead and plot the function $h$ on the interval $[-1,1]$ below. You don't need to add any Riemann sums to the plot, but it'll still be good to see the function in orer to visualize the solid we're forming. Define $\\Delta x$ while you're setting up your interval of $x$-values so that $n>1000$ again.\n",
        "\n"
      ]
    },
    {
      "cell_type": "code",
      "metadata": {
        "autoscroll": "auto",
        "options": {
          "caption": false,
          "complete": true,
          "display_data": true,
          "display_stream": true,
          "dpi": 200,
          "echo": true,
          "evaluate": true,
          "f_env": null,
          "f_pos": "htpb",
          "f_size": [
            6,
            4
          ],
          "f_spines": true,
          "fig": true,
          "include": true,
          "name": null,
          "option_string": "",
          "results": "verbatim",
          "term": false,
          "wrap": "output"
        },
        "id": "4g9qvAWDb35_"
      },
      "source": [
        "# Use this chunk of code to graph the function h(x) on the interval [-1,1]."
      ],
      "execution_count": null,
      "outputs": []
    },
    {
      "cell_type": "markdown",
      "metadata": {
        "format": "text/markdown",
        "id": "odLerayLb36G"
      },
      "source": [
        "Recall the integral formula for surface area:\n",
        "\n",
        "> If $h(x) \\geq 0$ on $[a,b]$, then the surface area of the solid formed when we revolved the region bounded by $h$ and the $x$-axis on $[a,b]$ around the $x$-axis is:\n",
        "$$\n",
        "A  = 2\\pi\\int_a^b h(x)\\sqrt{1+h'(x)^2}\\;dx\n",
        "$$\n",
        "\n",
        "Note that you'll need $h'(x)$. Define it below. You won't be able to call it `h'(x)`, so pick something like `h-prime(x)` or `dhdx(x)`. Note also that the `numpy` package does not have a secant function, so `np.sec()` won't be recognized. You'll need to use the fact that $\\sec(x)= \\dfrac{1}{\\cos x}$.\n",
        "\n"
      ]
    },
    {
      "cell_type": "code",
      "metadata": {
        "autoscroll": "auto",
        "options": {
          "caption": false,
          "complete": true,
          "display_data": true,
          "display_stream": true,
          "dpi": 200,
          "echo": true,
          "evaluate": true,
          "f_env": null,
          "f_pos": "htpb",
          "f_size": [
            6,
            4
          ],
          "f_spines": true,
          "fig": true,
          "include": true,
          "name": null,
          "option_string": "",
          "results": "verbatim",
          "term": false,
          "wrap": "output"
        },
        "id": "EsqGo0qfb36I"
      },
      "source": [
        "# Use this chunk of code to define h'(x)."
      ],
      "execution_count": null,
      "outputs": []
    },
    {
      "cell_type": "markdown",
      "metadata": {
        "format": "text/markdown",
        "id": "riY6miy7b36O"
      },
      "source": [
        "Now we'll set up the Riemann Sum for approximating the surface area. Remember, you'll need to define a set of $x$-values to use as your partition of the interval $[-1,1]$, and use the following Riemann Sum formula:\n",
        "\n",
        "$$\n",
        "A \\approx 2 \\pi  \\sum_{k=1}^n h(x_k^*)\\sqrt{1+h'(x_k^*)^2} \\Delta x\n",
        "$$\n",
        "\n",
        "For the square root, use the function `np.sqrt()`.\n",
        "\n"
      ]
    },
    {
      "cell_type": "code",
      "metadata": {
        "autoscroll": "auto",
        "options": {
          "caption": false,
          "complete": true,
          "display_data": true,
          "display_stream": true,
          "dpi": 200,
          "echo": true,
          "evaluate": true,
          "f_env": null,
          "f_pos": "htpb",
          "f_size": [
            6,
            4
          ],
          "f_spines": true,
          "fig": true,
          "include": true,
          "name": null,
          "option_string": "",
          "results": "verbatim",
          "term": false,
          "wrap": "output"
        },
        "id": "xzT1oeZ0b36Q"
      },
      "source": [
        "# Use this chunk of code to approximate the surface area using n>1000 slices."
      ],
      "execution_count": null,
      "outputs": []
    },
    {
      "cell_type": "markdown",
      "metadata": {
        "format": "text/markdown",
        "id": "JXdjbG_Wb36a"
      },
      "source": [
        "### Follow-Up Questions\n",
        "\n",
        "*Include your answers underneath each question.*\n",
        "\n",
        "--------\n",
        "\n",
        "5. *What do you think is the biggest benefit to performing a process like this using a programming language? Try evaluating one of the integrals we have set up in the lab by hand. What about these examples made them good examples to choose for this lab?*\n",
        "\n",
        "---------\n"
      ]
    }
  ]
}