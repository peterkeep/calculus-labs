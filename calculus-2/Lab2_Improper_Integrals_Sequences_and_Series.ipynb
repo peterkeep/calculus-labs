{
  "nbformat": 4,
  "nbformat_minor": 0,
  "metadata": {
    "kernel_info": {
      "name": "python3"
    },
    "colab": {
      "name": "Lab2_Improper_Integrals_Sequences_and_Series.ipynb",
      "provenance": [],
      "collapsed_sections": [],
      "include_colab_link": true
    },
    "kernelspec": {
      "name": "python3",
      "display_name": "Python 3"
    }
  },
  "cells": [
    {
      "cell_type": "markdown",
      "metadata": {
        "id": "view-in-github",
        "colab_type": "text"
      },
      "source": [
        "<a href=\"https://colab.research.google.com/github/peterkeep/calculus-labs/blob/master/calculus-2/Lab2_Improper_Integrals_Sequences_and_Series.ipynb\" target=\"_parent\"><img src=\"https://colab.research.google.com/assets/colab-badge.svg\" alt=\"Open In Colab\"/></a>"
      ]
    },
    {
      "cell_type": "markdown",
      "metadata": {
        "format": "text/markdown",
        "id": "PmgfNR-xK7TQ"
      },
      "source": [
        "Lab 2: Improper Integrals, Sequences, and Series\n",
        "==================================\n",
        "\n",
        "**Name:**\n",
        "\n",
        "**Due Date:** \n",
        "\n",
        "# Instructions\n",
        "\n",
        "Follow through the Leading Examples section, and then complete the Your Turn section:\n",
        "- Improper Integrals\n",
        "- Limits of Sequences\n",
        "- Series Convergence and Approximation\n",
        "\n",
        "Your task in this lab is to follow the Leading Examples, and complete the Your Turn sections, where you will write similar code to perform similar functions. There will also be Follow-Up Questions: you can answer these by typing your answers under each question.\n",
        "\n",
        "Type your name and due date on the top of this lab.\n",
        "\n",
        "Submit the file on Canvas through the assignment submission for Lab 2.\n",
        "\n",
        "\n",
        "# Leading Examples\n",
        "\n"
      ]
    },
    {
      "cell_type": "code",
      "metadata": {
        "autoscroll": "auto",
        "options": {
          "caption": false,
          "complete": true,
          "display_data": true,
          "display_stream": true,
          "dpi": 200,
          "echo": true,
          "evaluate": false,
          "f_env": null,
          "f_pos": "htpb",
          "f_size": [
            6,
            4
          ],
          "f_spines": true,
          "fig": true,
          "include": true,
          "name": null,
          "option_string": "evaluate=False",
          "results": "verbatim",
          "term": false,
          "wrap": "output"
        },
        "id": "dubrpmZ9K7TU"
      },
      "source": [
        "import numpy as np\n",
        "from matplotlib import pyplot as plt"
      ],
      "execution_count": null,
      "outputs": []
    },
    {
      "cell_type": "markdown",
      "metadata": {
        "id": "ey7rb24zy_Hy"
      },
      "source": [
        "## Improper Integrals\n",
        "\n",
        "In this example, we'll investigate two improper integrals. We have some experience evaluating/approximating definite integrals using Riemann Sums (from Lab 1), so the setup will be familiar, but we'll need to be careful dealing with the different kinds of infinite behavior in these improper integrals.\n",
        "\n",
        "Let's take a look at an improper integral with infinity in the limits of integration.\n",
        "\n",
        "### Infinite Width\n",
        "\n",
        "Let's take a look at this interesting integral:\n",
        "\n",
        "$$\n",
        "  \\int_0^\\infty x^3 e^{-x^2}\\;dx\n",
        "$$\n",
        "\n",
        "First, we should get a feel for what this function looks like when we graph it. Notice that we can't graph this function from $x=0$ to $x=\\infty$, so we'll have to approximate it by just picking a large value for the upper limit of integration. I'll use $b = 10000$ here."
      ]
    },
    {
      "cell_type": "code",
      "metadata": {
        "colab": {
          "base_uri": "https://localhost:8080/",
          "height": 281
        },
        "id": "35psNe0S0iu-",
        "outputId": "4d09a108-3b89-4549-954c-25f1a0fad4b4"
      },
      "source": [
        "def f(x):\n",
        "  return x**3 * np.e**(- x**2)\n",
        "\n",
        "a = 0\n",
        "b = 10000\n",
        "n = 1000000\n",
        "\n",
        "delta_x = (b - a) / n\n",
        "\n",
        "xVals = np.arange(a,b, delta_x)\n",
        "\n",
        "plt.plot(xVals, f(xVals))\n",
        "plt.title(\"Plot of f(x)\")\n",
        "plt.show()"
      ],
      "execution_count": null,
      "outputs": [
        {
          "output_type": "display_data",
          "data": {
            "image/png": "[encoded data removed]",
            "text/plain": [
              "<Figure size 432x288 with 1 Axes>"
            ]
          },
          "metadata": {
            "tags": [],
            "needs_background": "light"
          }
        }
      ]
    },
    {
      "cell_type": "markdown",
      "metadata": {
        "id": "nAiNXWOT5lEG"
      },
      "source": [
        "Ok....that's not very helpful, right? Notice that it looks like majority of the \"stuff\" in the graph of the function happens around $x=0$, and after that, the function seems to be essentially 0. So let's take things back a bit, and look at the graph from $x=0$ to $x=20$."
      ]
    },
    {
      "cell_type": "code",
      "metadata": {
        "colab": {
          "base_uri": "https://localhost:8080/",
          "height": 281
        },
        "id": "vSGTd5p_6G0X",
        "outputId": "c3bc4ca2-f611-470d-8dcb-6e2e3f8537f7"
      },
      "source": [
        "a = 0\n",
        "b = 20\n",
        "n = 2000\n",
        "\n",
        "delta_x = (b - a) / n\n",
        "\n",
        "xVals = np.arange(a,b, delta_x)\n",
        "\n",
        "plt.plot(xVals, f(xVals))\n",
        "plt.title(\"f(x) Again, but We Can Actually See it Now\")\n",
        "plt.show()"
      ],
      "execution_count": null,
      "outputs": [
        {
          "output_type": "display_data",
          "data": {
            "image/png": "[encoded data removed]",
            "text/plain": [
              "<Figure size 432x288 with 1 Axes>"
            ]
          },
          "metadata": {
            "tags": [],
            "needs_background": "light"
          }
        }
      ]
    },
    {
      "cell_type": "markdown",
      "metadata": {
        "id": "bwcwEPOR6SCX"
      },
      "source": [
        "Alright, so this looks good! We can see that when we integrate, the majority of the \"area\" actually shows up between $x=0$ and $x=3$ or something close to that. Let's not get too ambitious with cutting off the \"tail\" of this function when we approximate the integral. There could still be some area under that, especially when we extend out to infinity. So when we actually approximate the integral, we'll send that upper limit of integration back to something large. We won't graph the Riemann Sum, since there won't be much to look at, like our first graph of $f(x)$."
      ]
    },
    {
      "cell_type": "code",
      "metadata": {
        "colab": {
          "base_uri": "https://localhost:8080/"
        },
        "id": "943M7HpNAH1e",
        "outputId": "2d61e439-f420-40b4-f4de-5dbf9671b127"
      },
      "source": [
        "a = 0\n",
        "b = 100000\n",
        "delta_x = 0.01\n",
        "\n",
        "xPartition = np.arange(a, b, delta_x)\n",
        "\n",
        "Area = sum(f(xPartition)) * delta_x\n",
        "print(Area)"
      ],
      "execution_count": null,
      "outputs": [
        {
          "output_type": "stream",
          "text": [
            "0.5000000000833369\n"
          ],
          "name": "stdout"
        }
      ]
    },
    {
      "cell_type": "markdown",
      "metadata": {
        "id": "q6ooCzxdESfC"
      },
      "source": [
        "We can use Integration by Parts to actually integrate and evaluate $\\displaystyle \\int_0^\\infty x^3 e^{-x^2}\\;dx$, and if we did, we'd find that this approximation is VERY close to the actual value. Good news! Let's look at another example.\n",
        "\n",
        "### Infinite Height\n",
        "\n",
        "Let's take a look at the following integral:\n",
        "\n",
        "$$\n",
        "  \\int_1^3 \\frac{1}{\\sqrt{x-1}}\\;dx\n",
        "$$\n",
        "\n",
        "Again, let's graph this first. Note that we won't be able to start at $x=1$, since that's the location of the vertical asymptote. Instead, we'll start our partition at $1+\\Delta x$, and go all the way up to $x=3$ (by ending our `np.arange()` at `b+delta_x`), so we're using a Right Riemann sum instead."
      ]
    },
    {
      "cell_type": "code",
      "metadata": {
        "colab": {
          "base_uri": "https://localhost:8080/"
        },
        "id": "3c4S9LLUFa32",
        "outputId": "06ab190e-2921-414b-aea0-42351f9bb73e"
      },
      "source": [
        "def g(x):\n",
        "  return 1 / np.sqrt(x - 1)\n",
        "\n",
        "a = 1\n",
        "b = 3\n",
        "n = 100000\n",
        "\n",
        "delta_x = (b-a) / n\n",
        "\n",
        "xPartition = np.arange(a + delta_x, b + delta_x, delta_x)\n",
        "\n",
        "Area = sum(g(xPartition)) * delta_x\n",
        "print(Area)"
      ],
      "execution_count": null,
      "outputs": [
        {
          "output_type": "stream",
          "text": [
            "2.82190329190862\n"
          ],
          "name": "stdout"
        }
      ]
    },
    {
      "cell_type": "markdown",
      "metadata": {
        "format": "text/markdown",
        "id": "YiQp-i3rK7Ti"
      },
      "source": [
        "## Sequences\n",
        "\n",
        "In this example, we'll do some basic numerical approximation of limits of sequences.\n",
        "\n",
        "Let's consider some sequence:\n",
        "\n",
        "$$\n",
        "  \\{a_n\\} = \\left\\{\\dfrac{(-1)^{n+1}}{n}\\right\\}_{n=1}^\\infty\n",
        "$$\n",
        "\n",
        "With sequences, we're commonly interested the limit of the sequence. We might notice that this limit will be a bit tricky to do by hand. We could set up an inequality, and apply the Squeeze Theorem in order to evaluate $\\displaystyle \\lim_{n\\to\\infty} \\frac{(-1)^{n+1}}{n}$, but there might be an easier way. Let's define a function in python using the explicit formula for $\\{a_n\\}$.\n",
        "\n"
      ]
    },
    {
      "cell_type": "code",
      "metadata": {
        "autoscroll": "auto",
        "options": {
          "caption": false,
          "complete": true,
          "display_data": true,
          "display_stream": true,
          "dpi": 200,
          "echo": true,
          "evaluate": false,
          "f_env": null,
          "f_pos": "htpb",
          "f_size": [
            6,
            4
          ],
          "f_spines": true,
          "fig": true,
          "include": true,
          "name": null,
          "option_string": "evaluate=False",
          "results": "verbatim",
          "term": false,
          "wrap": "output"
        },
        "id": "bCBPyNZzK7Tn"
      },
      "source": [
        "def SeqA(n):\n",
        "  return (-1.0)**(n+1.0)/n"
      ],
      "execution_count": null,
      "outputs": []
    },
    {
      "cell_type": "markdown",
      "metadata": {
        "format": "text/markdown",
        "id": "09Oam6__K7T1"
      },
      "source": [
        "Let's try to get a good visualization of the sequence by plotting it. We'll use the `matplotlib` library like we've done normally, but we'll change things slightly: our default setup was plotting functions as continuous curves, but when we're visualizing sequences we should be thinking of disconnected points, only evaluated at integer inputs.\n",
        "\n",
        "The way that we'll do this is by adding in a \"plotting character\" into our code. We'll use the line `plt.plot(xList, yList, 'ro')` below, where `xList` can be replaced with the name of our list of inputs (in this case, our list of indeces) and `yList` can be replaced with the list of sequence terms (using our function `SeqA` defined above). The new addition, `'ro'` has two pieces: a color, and a point style. The color is marked by the first character (in this case, `r` is for red) and the point style is marked by the second character (in this case, 'o' is for a circular point).\n",
        "\n",
        "**Possible Color Codes:**\n",
        "- `b`: blue\n",
        "- `g`: green\n",
        "- `r`: red\n",
        "- `c`: cyan\n",
        "- `m`: magenta\n",
        "- `y`: yellow\n",
        "- `k`: black\n",
        "- `w`: white\n",
        "\n",
        "**Possible Point Styles:**\n",
        "- `o`: circle\n",
        "- `.`: point\n",
        "- `,`: pixel\n",
        "- others can be found at https://matplotlib.org/3.2.2/api/markers_api.html\n",
        "\n"
      ]
    },
    {
      "cell_type": "code",
      "metadata": {
        "autoscroll": "auto",
        "options": {
          "caption": false,
          "complete": true,
          "display_data": true,
          "display_stream": true,
          "dpi": 200,
          "echo": true,
          "evaluate": false,
          "f_env": null,
          "f_pos": "htpb",
          "f_size": [
            6,
            4
          ],
          "f_spines": true,
          "fig": true,
          "include": true,
          "name": null,
          "option_string": "evaluate=False",
          "results": "verbatim",
          "term": false,
          "wrap": "output"
        },
        "id": "hXfdFrlQK7T3"
      },
      "source": [
        "termsA = np.arange(1,101) #Remember, we have to count a little past the end point\n",
        "plt.plot(termsA, SeqA(termsA), 'ro')\n",
        "plt.title(\"Sequence\")\n",
        "plt.show()"
      ],
      "execution_count": null,
      "outputs": []
    },
    {
      "cell_type": "markdown",
      "metadata": {
        "format": "text/markdown",
        "id": "ceDVhD2aK7UA"
      },
      "source": [
        "We should notice a couple of things:\n",
        "1. This point size is pretty big: it's hard to see the detail.\n",
        "2. We are probably more interested in the \"tail\" of our sequence...this graph shows us the beginning terms.\n",
        "3. Even still, it looks like we already have some good evidence of this sequence converging to 0.\n",
        "\n",
        "Let's make this plot a little more informative: don't get me wrong, it's nice to see the beginning of this sequence, but we'll use this second plot to give us some good detail. We'll change the size of the points, consider only the \"tail\" (we'll look at terms from $n=500$ to $n=10000$), and even draw a horizontal line at what we guess the limit is.\n",
        "\n"
      ]
    },
    {
      "cell_type": "code",
      "metadata": {
        "autoscroll": "auto",
        "options": {
          "caption": false,
          "complete": true,
          "display_data": true,
          "display_stream": true,
          "dpi": 200,
          "echo": true,
          "evaluate": false,
          "f_env": null,
          "f_pos": "htpb",
          "f_size": [
            6,
            4
          ],
          "f_spines": true,
          "fig": true,
          "include": true,
          "name": null,
          "option_string": "evaluate=False",
          "results": "verbatim",
          "term": false,
          "wrap": "output"
        },
        "id": "A_sylSknK7UB"
      },
      "source": [
        "tailA = np.arange(500,10000)\n",
        "plt.plot(tailA, SeqA(tailA), 'r,')\n",
        "plt.hlines(0, 500, 10000)\n",
        "plt.title(\"The Tail of the Sequence\")\n",
        "plt.show()"
      ],
      "execution_count": null,
      "outputs": []
    },
    {
      "cell_type": "markdown",
      "metadata": {
        "format": "text/markdown",
        "id": "tVnSU83_K7UK"
      },
      "source": [
        "This gives some very good visual evidence that the sequence $\\{a_n\\}$ converges to 0.\n",
        "\n",
        "## Series\n",
        "\n",
        "Let's consider the same sequence as above, but we'll turn it into an infinite series: we'll add all of the terms together.\n",
        "\n",
        "$$\n",
        "\\sum_{k=1}^\\infty \\dfrac{(-1)^{k+1}}{k}\n",
        "$$\n",
        "\n",
        "One of the most fundamental results that we have is that\n",
        "$$\n",
        "\\sum_{k=1}^\\infty \\dfrac{(-1)^{k+1}}{k} = \\lim_{n\\to\\infty} \\sum_{k=1}^n \\dfrac{(-1)^{k+1}}{k} = \\lim_{n\\to\\infty} S_n\n",
        "$$\n",
        "as long as this limit of the sequence of partial sums, $\\{S_n\\}$, actually exists.\n",
        "\n",
        "We can investigate that sequence in the same way as we did above: notice, though, that we need to work on building the sequence of partial sums. We've already noticed in our course that this is rarely easy. Instead of building an explicit formula to define the sequence of partial sums, we can get the terms by simply adding over and over again.\n",
        "\n",
        "Let's define a function that will do this for us:\n",
        "\n"
      ]
    },
    {
      "cell_type": "code",
      "metadata": {
        "autoscroll": "auto",
        "options": {
          "caption": false,
          "complete": true,
          "display_data": true,
          "display_stream": true,
          "dpi": 200,
          "echo": true,
          "evaluate": false,
          "f_env": null,
          "f_pos": "htpb",
          "f_size": [
            6,
            4
          ],
          "f_spines": true,
          "fig": true,
          "include": true,
          "name": null,
          "option_string": "evaluate=False",
          "results": "verbatim",
          "term": false,
          "wrap": "output"
        },
        "id": "pYqkP4jKK7UL"
      },
      "source": [
        "def PartialSum(a, n, seq):\n",
        "  currentSum = 0\n",
        "  for k in range(a,n+1):\n",
        "      currentSum = currentSum + seq(k)\n",
        "  return currentSum\n",
        "\n",
        "def SeqPartialSum(a,n,seq):\n",
        "  currentSum = []\n",
        "  for k in range(a,n+1):\n",
        "    currentSum.append(PartialSum(a,k,seq))\n",
        "  return currentSum"
      ],
      "execution_count": null,
      "outputs": []
    },
    {
      "cell_type": "markdown",
      "metadata": {
        "format": "text/markdown",
        "id": "3A_e2wRBK7UV"
      },
      "source": [
        "This function will take in 3 values:\n",
        "\n",
        "- `a` represents the first index in the sum ($k=0$ or $k=1$, etc.)\n",
        "- `n` represents the largest index for the partial sum ($S_{100}$)\n",
        "- `seq` represents the sequence of terms, defined as a function in python $\\left(a_k = \\frac{(-1)^{k+1}}{k}\\right)$.\n",
        "\n",
        "**Note: You can feel free to run this chunk of code, and then use these functions later on: you don't need to re-build them!**\n",
        "\n",
        "Now let's investigate the partial sum for the series we're looking at!\n",
        "\n"
      ]
    },
    {
      "cell_type": "code",
      "metadata": {
        "autoscroll": "auto",
        "options": {
          "caption": false,
          "complete": true,
          "display_data": true,
          "display_stream": true,
          "dpi": 200,
          "echo": true,
          "evaluate": false,
          "f_env": null,
          "f_pos": "htpb",
          "f_size": [
            6,
            4
          ],
          "f_spines": true,
          "fig": true,
          "include": true,
          "name": null,
          "option_string": "evaluate=False",
          "results": "verbatim",
          "term": false,
          "wrap": "output"
        },
        "id": "r9BCaHVJK7UX"
      },
      "source": [
        "# Partial sum of the first 10 terms\n",
        "print(PartialSum(1,10,SeqA))\n",
        "# The first 10 terms in the sequence of partial sums\n",
        "print(SeqPartialSum(1,10,SeqA))"
      ],
      "execution_count": null,
      "outputs": []
    },
    {
      "cell_type": "markdown",
      "metadata": {
        "format": "text/markdown",
        "id": "YdGpN9X6K7Uc"
      },
      "source": [
        "So these two functions will be very helpful: we can see that the `PartialSum()` function gives us the actual sum of the first $n$ terms for some series, and the `SeqPartialSum()` function gives us a list of the first $n$ partial sums. This will be helpful for plotting!\n",
        "\n",
        "Let's plot the first 50 partial sums!\n"
      ]
    },
    {
      "cell_type": "code",
      "metadata": {
        "autoscroll": "auto",
        "options": {
          "caption": false,
          "complete": true,
          "display_data": true,
          "display_stream": true,
          "dpi": 200,
          "echo": true,
          "evaluate": false,
          "f_env": null,
          "f_pos": "htpb",
          "f_size": [
            6,
            4
          ],
          "f_spines": true,
          "fig": true,
          "include": true,
          "name": null,
          "option_string": "evaluate=False",
          "results": "verbatim",
          "term": false,
          "wrap": "output"
        },
        "id": "MpfHmvDVK7Ue"
      },
      "source": [
        "indecesA = np.arange(1,51) # Remember, np.arange() doesn't include the last value, so we go \"up to\" 51 terms.\n",
        "PartialsA = SeqPartialSum(1,50, SeqA) # This is the list of partial sums we'll plot\n",
        "\n",
        "plt.plot(indecesA, PartialsA, 'b.')\n",
        "plt.title(\"Sequence of Partial Sums\")\n",
        "plt.show()"
      ],
      "execution_count": null,
      "outputs": []
    },
    {
      "cell_type": "markdown",
      "metadata": {
        "format": "text/markdown",
        "id": "WrDe9HDiK7Uk"
      },
      "source": [
        "It looks like we've got some good visual evidence that this series converges: the sequence of partial sums seems to have a nice horizontal asymptote somewhere between 0.55 and 0.60. Just looking at this visual depiction, though, doesn't give us a very detailed idea of *what* the series converges to...something in between 0.55 and 0.6 isn't very helpful.\n",
        "\n",
        "Let's look at some of the bigger partial sums:\n"
      ]
    },
    {
      "cell_type": "code",
      "metadata": {
        "autoscroll": "auto",
        "options": {
          "caption": false,
          "complete": true,
          "display_data": true,
          "display_stream": true,
          "dpi": 200,
          "echo": true,
          "evaluate": false,
          "f_env": null,
          "f_pos": "htpb",
          "f_size": [
            6,
            4
          ],
          "f_spines": true,
          "fig": true,
          "include": true,
          "name": null,
          "option_string": "evaluate=False",
          "results": "verbatim",
          "term": false,
          "wrap": "output"
        },
        "id": "YlGw6o_fK7Ul"
      },
      "source": [
        "# Partial sum of the first 50 terms\n",
        "print(PartialSum(1,50,SeqA))"
      ],
      "execution_count": null,
      "outputs": []
    },
    {
      "cell_type": "markdown",
      "metadata": {
        "format": "text/markdown",
        "id": "KKXU5s2PK7Us"
      },
      "source": [
        "This is the value of the last partial sum that we plotted above. Already, this is more detail than the graph gave us.\n",
        "\n",
        "Let's try looking at some more partial sums to get a really good approximation of the series:\n"
      ]
    },
    {
      "cell_type": "code",
      "metadata": {
        "autoscroll": "auto",
        "options": {
          "caption": false,
          "complete": true,
          "display_data": true,
          "display_stream": true,
          "dpi": 200,
          "echo": true,
          "evaluate": false,
          "f_env": null,
          "f_pos": "htpb",
          "f_size": [
            6,
            4
          ],
          "f_spines": true,
          "fig": true,
          "include": true,
          "name": null,
          "option_string": "evaluate=False",
          "results": "verbatim",
          "term": false,
          "wrap": "output"
        },
        "id": "DBnXZs6YK7Uu"
      },
      "source": [
        "# Partial sum of the first 10000 terms\n",
        "print(PartialSum(1,10000,SeqA))\n",
        "\n",
        "# Partial sum of the first 50000 terms\n",
        "print(PartialSum(1,50000,SeqA))\n",
        "\n",
        "# Partial sum of the first 100000 terms\n",
        "print(PartialSum(1,100000,SeqA))\n",
        "\n",
        "# Partial sum of the first 5000000 terms\n",
        "print(PartialSum(1,5000000,SeqA))"
      ],
      "execution_count": null,
      "outputs": []
    },
    {
      "cell_type": "markdown",
      "metadata": {
        "format": "text/markdown",
        "id": "EcvHn2OMK7U2"
      },
      "source": [
        "Wow, this is incredible! We have at out fingertips the first **five million** terms of this series added up!\n",
        "\n",
        "Now, this is a series that we actually know a lot about: we have seen in this class that $\\displaystyle \\sum_{k=1}^\\infty \\dfrac{(-1)^{k+1}}{k} = \\ln 2$.\n",
        "\n",
        "Let's check how good our approximation is!\n",
        "\n"
      ]
    },
    {
      "cell_type": "code",
      "metadata": {
        "autoscroll": "auto",
        "options": {
          "caption": false,
          "complete": true,
          "display_data": true,
          "display_stream": true,
          "dpi": 200,
          "echo": true,
          "evaluate": false,
          "f_env": null,
          "f_pos": "htpb",
          "f_size": [
            6,
            4
          ],
          "f_spines": true,
          "fig": true,
          "include": true,
          "name": null,
          "option_string": "evaluate=False",
          "results": "verbatim",
          "term": false,
          "wrap": "output"
        },
        "id": "iLQ_mykKK7U4"
      },
      "source": [
        "Approx = PartialSum(1,5000000,SeqA)\n",
        "Actual = np.log(2)\n",
        "PercError = abs(Actual - Approx)/Actual\n",
        "print(\"Approximation:\", Approx)\n",
        "print(\"Actual:\", Actual)\n",
        "print(\"Percenrage Error:\", PercError)"
      ],
      "execution_count": null,
      "outputs": []
    },
    {
      "cell_type": "markdown",
      "metadata": {
        "id": "S0uMsfWoJAOg"
      },
      "source": [
        "This percentage error says that our approximation is \"off\" by approximately 0.00001443%. We can also see that our approximation is accurate up to 5 decimal points. Pretty good!\n",
        "\n",
        "# Your Turn\n",
        "\n",
        "Let's start off with a short improper integral problem.\n",
        "\n",
        "## Improper Integrals\n",
        "\n",
        "Consider the integral: \n",
        "$$\n",
        "\\int_{-1}^1 \\frac{1}{x}\\;dx\n",
        "$$\n",
        "\n",
        "Let's approximate this improper integral using a Riemann Sum. We'll need to be careful, since $x=0$ is a vertical asymptote, so we can't have our function defined there. So let's use a Midpoint Approximation.\n",
        "\n",
        "Once you set up your values for `a` and `b` (the limits of integration) and `delta_x`, you can use `xMidPartition = np.arange(a + delta_x / 2, b, delta_x)`."
      ]
    },
    {
      "cell_type": "code",
      "metadata": {
        "id": "gJFgn87dJwkX"
      },
      "source": [
        "# Use this chunk to approximate the improper integral."
      ],
      "execution_count": null,
      "outputs": []
    },
    {
      "cell_type": "markdown",
      "metadata": {
        "format": "text/markdown",
        "id": "CFS58yqoK7VD"
      },
      "source": [
        "\n",
        "### Follow-Up Questions\n",
        "\n",
        "*Include your answers underneath each question.*\n",
        "\n",
        "--------\n",
        "\n",
        "1. *What is your approximation? What is the **actual** value of the integral (do it by hand to check)? Explain any weirdness you find.*\n",
        "\n",
        "\n",
        "---------\n",
        "\n",
        "## Limits of Sequences\n",
        "\n",
        "We'll re-create the Leading Example, but with a sequence and series that are a little less familiar.\n",
        "\n",
        "Let's consider the sequence $\\{b_n\\} = \\left\\{ \\dfrac{n\\sin(n)}{n^2+1} \\right\\}_{n=1}^\\infty$\n",
        "\n",
        "We'll be interested in the limit of the sequence, again. We could set up the Squeeze Theorem inequality, but that might be annoying. Let's just approximate it graphically.\n",
        "\n",
        "First, we'll define a function, the explicit formula for $\\{b_n\\}$.\n",
        "\n"
      ]
    },
    {
      "cell_type": "code",
      "metadata": {
        "autoscroll": "auto",
        "options": {
          "caption": false,
          "complete": true,
          "display_data": true,
          "display_stream": true,
          "dpi": 200,
          "echo": true,
          "evaluate": false,
          "f_env": null,
          "f_pos": "htpb",
          "f_size": [
            6,
            4
          ],
          "f_spines": true,
          "fig": true,
          "include": true,
          "name": null,
          "option_string": "evaluate=False",
          "results": "verbatim",
          "term": false,
          "wrap": "output"
        },
        "id": "mEMsA7AtK7VE"
      },
      "source": [
        "# Use this chunk to define the function for the terms of the sequence."
      ],
      "execution_count": null,
      "outputs": []
    },
    {
      "cell_type": "markdown",
      "metadata": {
        "format": "text/markdown",
        "id": "ZId-kamhK7VR"
      },
      "source": [
        "Now we'll plot the first 100 terms:\n",
        "\n"
      ]
    },
    {
      "cell_type": "code",
      "metadata": {
        "autoscroll": "auto",
        "options": {
          "caption": false,
          "complete": true,
          "display_data": true,
          "display_stream": true,
          "dpi": 200,
          "echo": true,
          "evaluate": false,
          "f_env": null,
          "f_pos": "htpb",
          "f_size": [
            6,
            4
          ],
          "f_spines": true,
          "fig": true,
          "include": true,
          "name": null,
          "option_string": "evaluate=False",
          "results": "verbatim",
          "term": false,
          "wrap": "output"
        },
        "id": "LnuLEiV0K7VS"
      },
      "source": [
        "# Use this chunk to plot the first 100 terms of the sequence."
      ],
      "execution_count": null,
      "outputs": []
    },
    {
      "cell_type": "markdown",
      "metadata": {
        "format": "text/markdown",
        "id": "pwhvWN-WK7VY"
      },
      "source": [
        "And now we can plot the \"tail\" of our sequence. Include a horizontal line to represent your approximation of the limit of this sequence.\n",
        "\n"
      ]
    },
    {
      "cell_type": "code",
      "metadata": {
        "autoscroll": "auto",
        "options": {
          "caption": false,
          "complete": true,
          "display_data": true,
          "display_stream": true,
          "dpi": 200,
          "echo": true,
          "evaluate": false,
          "f_env": null,
          "f_pos": "htpb",
          "f_size": [
            6,
            4
          ],
          "f_spines": true,
          "fig": true,
          "include": true,
          "name": null,
          "option_string": "evaluate=False",
          "results": "verbatim",
          "term": false,
          "wrap": "output"
        },
        "id": "fZw4vtdwK7VZ"
      },
      "source": [
        "# Use this chunk of code to plot the tail of the sequence."
      ],
      "execution_count": null,
      "outputs": []
    },
    {
      "cell_type": "markdown",
      "metadata": {
        "format": "text/markdown",
        "id": "uByBSHOSK7Vk"
      },
      "source": [
        "\n",
        "### Follow-Up Questions\n",
        "\n",
        "*Include your answers underneath each question.*\n",
        "\n",
        "--------\n",
        "\n",
        "2. *Is your approximation of the limit of this sequence useful information for our end goal: talking about the infinite series?*\n",
        "\n",
        "\n",
        "---------\n",
        "\n",
        "## Series Convergence and Approximation\n",
        "\n",
        "We'll investigate the series:\n",
        "\n",
        "$$\n",
        "  \\sum_{k=1}^\\infty \\dfrac{k \\sin(k)}{k^2+1}\n",
        "$$\n",
        "\n",
        "First, notice that it is difficult to see if this series converges or not. This is not technically an alternating series, since, while the $\\sin(k)$ will be bounded between -1 and 1, it doesn't alternate back and forth term by term.\n",
        "\n",
        "Setting up our series convergence tests is not easy in this case. So let's investigate the partial sums, as we did above.\n",
        "\n",
        "As a reminder, we can use the `PartialSum()` and `SeqPartialSum()` functions from above: we just need to make sure we run that block of code to define the functions.\n",
        "\n",
        "Let's plot the first 100 partial sums.\n",
        "\n"
      ]
    },
    {
      "cell_type": "code",
      "metadata": {
        "autoscroll": "auto",
        "options": {
          "caption": false,
          "complete": true,
          "display_data": true,
          "display_stream": true,
          "dpi": 200,
          "echo": true,
          "evaluate": false,
          "f_env": null,
          "f_pos": "htpb",
          "f_size": [
            6,
            4
          ],
          "f_spines": true,
          "fig": true,
          "include": true,
          "name": null,
          "option_string": "evaluate=False",
          "results": "verbatim",
          "term": false,
          "wrap": "output"
        },
        "id": "UIcioNN4K7Vl"
      },
      "source": [
        "# Use this chunk to plot the first 100 partial sums"
      ],
      "execution_count": null,
      "outputs": []
    },
    {
      "cell_type": "markdown",
      "metadata": {
        "format": "text/markdown",
        "id": "EsJlct7DK7Vs"
      },
      "source": [
        "\n",
        "Let's get some bigger partial sums. This should give us an idea of what's going on.\n",
        "\n"
      ]
    },
    {
      "cell_type": "code",
      "metadata": {
        "autoscroll": "auto",
        "options": {
          "caption": false,
          "complete": true,
          "display_data": true,
          "display_stream": true,
          "dpi": 200,
          "echo": true,
          "evaluate": false,
          "f_env": null,
          "f_pos": "htpb",
          "f_size": [
            6,
            4
          ],
          "f_spines": true,
          "fig": true,
          "include": true,
          "name": null,
          "option_string": "evaluate=False",
          "results": "verbatim",
          "term": false,
          "wrap": "output"
        },
        "id": "fmJ5dpraK7Vv"
      },
      "source": [
        "# Partial sum of the first 10000 terms\n",
        "\n",
        "# Partial sum of the first 50000 terms\n",
        "\n",
        "# Partial sum of the first 100000 terms\n",
        "\n",
        "# Partial sum of the first 5000000 terms"
      ],
      "execution_count": null,
      "outputs": []
    },
    {
      "cell_type": "markdown",
      "metadata": {
        "id": "hn61VaTNLL9k"
      },
      "source": [
        "### Follow-Up Questions\n",
        "\n",
        "*Include your answers underneath each question.*\n",
        "\n",
        "--------\n",
        "\n",
        "3. *Do you think this series converges or diverges? If it converges, what do you think it converges to? Is this approximation good?*\n",
        "\n",
        "\n",
        "4. *I claim that it's hard to set up some convergence tests. Pick one that seems reasonable, and explain why this series is hard to deal with in that test specifically.*\n",
        "\n",
        "\n",
        "---------"
      ]
    }
  ]
}