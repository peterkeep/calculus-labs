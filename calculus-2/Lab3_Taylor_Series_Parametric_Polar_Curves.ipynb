{
  "nbformat": 4,
  "nbformat_minor": 0,
  "metadata": {
    "colab": {
      "name": "Lab3_Taylor_Series_Parametric_Polar_Curves.ipynb",
      "private_outputs": true,
      "provenance": [],
      "collapsed_sections": [],
      "authorship_tag": "ABX9TyPHoEzc1mIekyNS/2GnbPB9",
      "include_colab_link": true
    },
    "kernelspec": {
      "name": "python3",
      "display_name": "Python 3"
    }
  },
  "cells": [
    {
      "cell_type": "markdown",
      "metadata": {
        "id": "view-in-github",
        "colab_type": "text"
      },
      "source": [
        "<a href=\"https://colab.research.google.com/github/peterkeep/calculus-labs/blob/master/calculus-2/Lab3_Taylor_Series_Parametric_Polar_Curves.ipynb\" target=\"_parent\"><img src=\"https://colab.research.google.com/assets/colab-badge.svg\" alt=\"Open In Colab\"/></a>"
      ]
    },
    {
      "cell_type": "markdown",
      "metadata": {
        "id": "XJ9Po8jTyEFl"
      },
      "source": [
        "Lab 3: Taylor Series, Parametric and Polar Curves\n",
        "==================================\n",
        "\n",
        "**Name:**\n",
        "\n",
        "**Due Date:** \n",
        "\n",
        "# Instructions\n",
        "\n",
        "Follow through the Leading Examples section, and then complete the Your Turn section:\n",
        "- Taylor Series\n",
        "- Graphs of Parametric Curves\n",
        "- Graphs of Polar Curves\n",
        "\n",
        "Your task in this lab is to follow the Leading Examples, and complete the Your Turn sections, where you will write similar code to perform similar functions. There will also be Follow-Up Questions: you can answer these by typing your answers under each question.\n",
        "\n",
        "Type your name and due date on the top of this lab.\n",
        "\n",
        "Submit the file on Canvas through the assignment submission for Lab 3.\n",
        "\n",
        "\n",
        "# Leading Examples\n",
        "\n",
        "As always, before we begin, let's load in some of our standard libraries.\n"
      ]
    },
    {
      "cell_type": "code",
      "metadata": {
        "id": "SvJHO4EQmAcm"
      },
      "source": [
        "import numpy as np\n",
        "from matplotlib import pyplot as plt"
      ],
      "execution_count": null,
      "outputs": []
    },
    {
      "cell_type": "markdown",
      "metadata": {
        "id": "s-lFH2womFaZ"
      },
      "source": [
        "## Taylor Series\n",
        "\n",
        "In this example, we'll just investigate the convergence of a Taylor Series to a function. That's the whole point, right? We can build an infinite power series, and it converges to the function we want!\n",
        "\n",
        "So we'll investigate this function: $f(x) = 2x\\cos(x^2)$. You can imagine a few ways of building the Taylor series in a couple of ways:\n",
        "\n",
        "*   We could use the Taylor series for $\\cos(x)$, compose $x^2$ inside of it, and then multiply the whole thing by $2x$.\n",
        "*   We could use the Taylor series for $\\sin(x)$, compose $x^2$ inside of it, and then differentiate the whole thing.\n",
        "\n",
        "Either way, you'll get the following Taylor series (or some other equivalent form):\n",
        "\n",
        "$$\\sum_{k=0}^\\infty \\frac{(-1)^k 2x^{4k+1}}{(2k)!}$$\n",
        "\n",
        "We want to investigate whether this series is actually the same as $2x\\cos(x^2)$.  The easiest way to investigate that is to just see the visual comparison of the graphs. Let's plot both on the same axes, and see if they look the same.\n",
        "\n",
        "For us to do that, we'll actually need a really good approximation of the Taylor Series: a partial sum. We can't code this thing up to an infinite amount of terms, but as we've done before, we can approximate it with *many* terms.\n",
        "\n",
        "First, though, we'll define two things: the function $f(x)$ and the Taylor Partial Sum Approximation of it (named `fTaylor`).\n"
      ]
    },
    {
      "cell_type": "code",
      "metadata": {
        "id": "8c-DZig6J_k7"
      },
      "source": [
        "def f(x):\n",
        "  return 2 * x * np.cos(x**2)\n",
        "\n",
        "def fTaylor(xVals, maxIndex):\n",
        "  outputs = []\n",
        "  if isinstance(xVals, int):\n",
        "    xVals = [xVals]\n",
        "  if isinstance(xVals, float):\n",
        "    xVals = [xVals]\n",
        "  index = np.arange(0, maxIndex+1)\n",
        "  for x in xVals:\n",
        "    PartSum = 0\n",
        "    for k in index:\n",
        "      currentTerm = (-1)**k * 2 * x**(4 * k + 1) / np.math.factorial(2 * k)\n",
        "      PartSum += currentTerm\n",
        "    outputs.append(PartSum)\n",
        "  if len(outputs)==1:\n",
        "    outputs = float(outputs[0])\n",
        "  return outputs"
      ],
      "execution_count": null,
      "outputs": []
    },
    {
      "cell_type": "markdown",
      "metadata": {
        "id": "p8u4Ma12Ubbc"
      },
      "source": [
        "I won't bore you with all of the details, but here's how `fTaylor()` works:\n",
        "\n",
        "\n",
        "*   We give `fTaylor` an $x$-value (or a list of them) to evaluate, and a maximum index (for the cutoff in the partial sum).\n",
        "*   We will need a list of $x$-values, so we first check to see if `fTaylor` was only given one, in which case we convert it to a list of one $x$-value.\n",
        "*   For each $x$-value that we were given, we plug it into each term up to the maximum index.\n",
        "* We add up all of the terms for each $x$-value and spit out the list of those sums, since those are the outputs for each $x$-value.\n",
        "* The default output is as a list, but if there's only one $y$-value that it's spitting out, I want it to just give me the number, not a list of one number.\n",
        "\n",
        "So let's see: what if we want to use this to estimate $f(\\pi/8)$ using 2 terms of the Taylor series? Let's do a little comparison!\n"
      ]
    },
    {
      "cell_type": "code",
      "metadata": {
        "id": "nXpDEil4WNU1"
      },
      "source": [
        "print('Actual Value:', f(np.pi/8))\n",
        "print('Taylor Approximation:', fTaylor(np.pi/8, 2))"
      ],
      "execution_count": null,
      "outputs": []
    },
    {
      "cell_type": "markdown",
      "metadata": {
        "id": "nxtnTXsrXPZ8"
      },
      "source": [
        "Wow, this is pretty great, right?! These are close! How can we get them closer? Use more terms!"
      ]
    },
    {
      "cell_type": "code",
      "metadata": {
        "id": "VibOK0ZiXUyK"
      },
      "source": [
        "print('Actual Value:', f(np.pi/8))\n",
        "print('Taylor Approximation:', fTaylor(np.pi/8, 20))"
      ],
      "execution_count": null,
      "outputs": []
    },
    {
      "cell_type": "markdown",
      "metadata": {
        "id": "CXaQpq9yXXvk"
      },
      "source": [
        "Ok, hopefully we're convinced that this works nicely for $pi/8$, but what about for all $x$-values? Well, let's graph both functions at the same time! Here they are graphed on the interval $[-4,4]$."
      ]
    },
    {
      "cell_type": "code",
      "metadata": {
        "id": "iCkeyyfzXfT0"
      },
      "source": [
        "xValues = np.arange(-4, 4, 0.01)\n",
        "\n",
        "plt.plot(xValues, f(xValues))\n",
        "plt.plot(xValues, fTaylor(xValues, 20))\n",
        "plt.title('Comparison of Curves')\n",
        "plt.show()"
      ],
      "execution_count": null,
      "outputs": []
    },
    {
      "cell_type": "markdown",
      "metadata": {
        "id": "tM2ng8u4X4Up"
      },
      "source": [
        "This looks great! You can *barely* see the function and the approximation start deviating from each other at the end. Here's a cleaner picture:"
      ]
    },
    {
      "cell_type": "code",
      "metadata": {
        "id": "OBO-AeBLMZ5X"
      },
      "source": [
        "plt.hlines(0, -4, 4, color = 'grey', alpha = 0.2)\n",
        "plt.vlines(0,-8, 8, color = 'grey', alpha = 0.2)\n",
        "plt.plot(xValues, f(xValues), lw=5, alpha=0.8)\n",
        "plt.plot(xValues, fTaylor(xValues, 20), lw=2)\n",
        "plt.title('Comparison of Curves')\n",
        "plt.show()"
      ],
      "execution_count": null,
      "outputs": []
    },
    {
      "cell_type": "markdown",
      "metadata": {
        "id": "C-GqngdLYAeP"
      },
      "source": [
        "Hopefully this is pretty convincing. We could keep adding more and more terms (we've only got 20 here!), and our only limitations are:\n",
        "\n",
        "\n",
        "*   the time it would take to code it up.\n",
        "*   the time it would take for the code to run (and in my case, it'll take a long time because my code is inefficient).\n",
        "*   the memory size and other limitations like that.\n",
        "\n",
        "Overall though, I think that's pretty convincing: these Taylor Series actually do represent the functions we want them to.\n",
        "\n"
      ]
    },
    {
      "cell_type": "markdown",
      "metadata": {
        "id": "2Bjr-tZymMeJ"
      },
      "source": [
        "## Parametric Curves\n",
        "\n",
        "Let's think about the core idea behind parametric plots: instead of using $x$-values as inputs into some function $y=f(x)$ (where $y$ is dependent on $x$) and plotting the points $(x,y)$, we use $t$-values as inputs into some functions $x = f(t)$ and $y = g(t)$ (where both $x$ and $y$ are dependent on $t$) and plotting the points $(x,y)$.\n",
        "\n",
        "So how will that change things for us here?\n",
        "\n",
        "Not much at all! We'll still build a list of $x$-values and a list of $y$-values and plot them useing the same functions as before: `plt.plot()` and all of those.\n",
        "\n",
        "Now, though, we'll build our list of $x$-values in the same way that we usually build the list of $y$-values: as outputs!\n",
        "\n",
        "\n",
        "\n"
      ]
    },
    {
      "cell_type": "code",
      "metadata": {
        "id": "yFy8L4rZnYRz"
      },
      "source": [
        "import numpy as np\n",
        "import matplotlib.pyplot as plt\n",
        "\n",
        "tVals = np.arange(0, np.pi, 0.001)\n",
        "\n",
        "def x(t):\n",
        "  return 4 * t**2 - 1\n",
        "\n",
        "def y(t):\n",
        "  return 6 * np.sin(t)\n",
        "\n",
        "plt.plot(x(tVals), y(tVals))\n",
        "plt.title('Parametric Plot (or is it?)')\n",
        "plt.show()"
      ],
      "execution_count": null,
      "outputs": []
    },
    {
      "cell_type": "markdown",
      "metadata": {
        "id": "-dOoMSVwCkz7"
      },
      "source": [
        "What are we missing here? \n",
        "\n",
        "Well, one of the important things with a parametric plot is to somehow show off the direction. We could use an animation to make that explicitly clear (where we watch the curve move along its path), but that will be more annoying to code than it's worth.\n",
        "\n",
        "Instead, we'll add a tried and true feature: an arrow.\n",
        "\n",
        "I'm going to use the `plt.arrow()` code to add an arrow. It takes in a couple of different values:\n",
        "\n",
        "- a starting $x$-value\n",
        "- a starting $y$-value\n",
        "- a change in $x$\n",
        "- a change in $y$\n",
        "\n",
        "The change in $x$ and $y$ will help show where the arrow should be pointing. The way I'll do that is by picking some value for $t$ (in this case $t=2$) and using that to give me $x$ and $y$ values to start my arrow at. Then I'll add a tiny amount of time, and find the change in $x$ and $y$. I've also added some other features to make the arrow look nice."
      ]
    },
    {
      "cell_type": "code",
      "metadata": {
        "id": "8bdL3fJ5Ck_F"
      },
      "source": [
        "plt.plot(x(tVals), y(tVals))\n",
        "plt.arrow(x(2), y(2), \n",
        "          x(2 + 0.1) - x(2), \n",
        "          y(2 + 0.1) - y(2), \n",
        "          shape = 'full', lw=0,\n",
        "          length_includes_head=True, head_width=0.4)\n",
        "plt.title('Parametric Plot')\n",
        "plt.show()"
      ],
      "execution_count": null,
      "outputs": []
    },
    {
      "cell_type": "markdown",
      "metadata": {
        "id": "fdTsnjWJrTZ9"
      },
      "source": [
        "## Polar Curves\n",
        "\n",
        "Let's plot some parametric curves. The package `matplotlib` has a nice `polar()` function to help us out. It'll make things pretty easy.\n",
        "\n",
        "To plot a polar function, we match the kind of syntax as the `plot` function: we'll need a list of inputs and list of outputs as well: `polar(theta, r)` where `theta` is the list of inputs and `r` is the polar function outputs.\n",
        "\n",
        "So let's plot the function $r = 4\\theta|\\sin(\\theta)|$ for $0\\leq \\theta < 4\\pi$. For the absolute value, we will use the `abs()` function."
      ]
    },
    {
      "cell_type": "code",
      "metadata": {
        "id": "ATGALwWVrdIA"
      },
      "source": [
        "def r(t):\n",
        "  return 4 * t * abs(np.sin(t))\n",
        "\n",
        "theta = np.arange(0, 4 * np.pi, 0.01)\n",
        "\n",
        "plt.polar(theta, r(theta))\n",
        "plt.title(\"A Polar Graph\")\n",
        "plt.show()"
      ],
      "execution_count": null,
      "outputs": []
    },
    {
      "cell_type": "markdown",
      "metadata": {
        "id": "jHv24A8QERG1"
      },
      "source": [
        "What we'll notice, though, is that this is `plt.polar()` thing is a little weird. Let's graph a circle, $r=\\sin(\\theta)$. We know what this looks like. It's a circle centered at $(0,1)$ with radius 1. But look at the graph!"
      ]
    },
    {
      "cell_type": "code",
      "metadata": {
        "id": "D3fmye8JFnQk"
      },
      "source": [
        "def s(t):\n",
        "  return np.sin(t)\n",
        "\n",
        "plt.polar(theta, s(theta))\n",
        "plt.title(\"More Like Polar Trash, Am I Right?\")\n",
        "plt.show()"
      ],
      "execution_count": null,
      "outputs": []
    },
    {
      "cell_type": "markdown",
      "metadata": {
        "id": "wBz6PoPqF3Cw"
      },
      "source": [
        "Clearly not a circle. Wait: do you see what's happening? Look at the center of the graph! It's at $r=-1$! That's weird. It should be centered at $r=0$, like a normal person would do it.\n",
        "\n",
        "Ok, so I didn't really research this to figure out *why* the default settings are this way, I only looked to see how to fix it. We're going to set up an axes using `ax = plt.subplot(111, projection='polar')` (also, this makes the graph polar which is nice) and then we're going to force some limitations on which values of $r$ it displays. We want $r$ to go from 0 to maybe 1 in this case. So we'll use `ax.set_rlim(0,1)`. After this, we can use our regular `plt.plot()` stuff, add a title, and show the graph."
      ]
    },
    {
      "cell_type": "code",
      "metadata": {
        "id": "VK4EWyowERza"
      },
      "source": [
        "def s(t):\n",
        "  return np.sin(t)\n",
        "\n",
        "ax = plt.subplot(111, projection='polar')\n",
        "ax.set_rlim(0,1)\n",
        "plt.plot(theta, s(theta))\n",
        "plt.title(\"Wow, It's a Circle!\")\n",
        "plt.show()"
      ],
      "execution_count": null,
      "outputs": []
    },
    {
      "cell_type": "markdown",
      "metadata": {
        "id": "8x5aZE8oGd4q"
      },
      "source": [
        "Much better!\n",
        "\n",
        "Ok, when we get to Your Turn plotting these, I'll try to help as much as I can in order to make your graph look nice."
      ]
    },
    {
      "cell_type": "markdown",
      "metadata": {
        "id": "WBqAWfUfly0j"
      },
      "source": [
        "# Your Turn\n",
        "\n",
        "Let's go ahead and load the normal packages so you can get on your way."
      ]
    },
    {
      "cell_type": "code",
      "metadata": {
        "id": "fHZXqomal3Y8"
      },
      "source": [
        "import numpy as np\n",
        "from matplotlib import pyplot as plt"
      ],
      "execution_count": null,
      "outputs": []
    },
    {
      "cell_type": "markdown",
      "metadata": {
        "id": "nbNuj1bcKsqC"
      },
      "source": [
        "## Taylor Series vs. Riemann Sums\n",
        "\n",
        "Ok, here's a fun excercise. We're going to approximate the following integral: $\\int_0^3 \\sin(x^2)\\;dx$. This is something we can't really evaluate using the Fundamental Theorem of Calculus nicely, because there is not elementary anti-derivative of $\\sin(x^2)$.\n",
        "\n",
        "There are many ways of approximating this integral, but let's do two: Riemann sums, and Taylor Series.\n",
        "\n",
        "### Riemann Sums\n",
        "\n",
        "Let's go back to Riemann sums. Let's use $n=15$. That means $\\Delta x = \\dfrac{3-0}{15} = 0.2$. Set up a partition from 0 to 3 using this value of $n$ and $\\Delta x$. Then, approximate the area under the function $f(x) = \\sin(x^2)$. (Remember, you'll need to define that function.)\n",
        "\n"
      ]
    },
    {
      "cell_type": "code",
      "metadata": {
        "id": "wEQDUkpCKvpi"
      },
      "source": [
        "# Use this chunk of code to define the function f(x)"
      ],
      "execution_count": null,
      "outputs": []
    },
    {
      "cell_type": "markdown",
      "metadata": {
        "id": "nTYSBAu5KwG2"
      },
      "source": [
        "Now we can set up the Riemann sum."
      ]
    },
    {
      "cell_type": "code",
      "metadata": {
        "id": "VDgXTdpRKx9G"
      },
      "source": [
        "# Use this chunk of code to set up and evaluate the Riemann sum with n=15"
      ],
      "execution_count": null,
      "outputs": []
    },
    {
      "cell_type": "markdown",
      "metadata": {
        "id": "wHbiBcygKzm4"
      },
      "source": [
        "Now we can compare this with a Taylor Series approximation of this area.\n",
        "\n",
        "### Taylor Series\n",
        "\n",
        "What we need to do first is find the Taylor Series for $\\sin(x^2)$, and integrate that:\n",
        "\n",
        "$$\n",
        "  \\sin(x) = \\sum_{k=0}^\\infty \\dfrac{(-1)^k x^{2k+1}}{(2k+1)!}\n",
        "$$\n",
        "\n",
        "$$\n",
        "  \\sin(x^2) = \\sum_{k=0}^\\infty \\frac{(-1)^k x^{4k+2}}{(2k+1)!}\n",
        "$$\n",
        "\n",
        "$$\n",
        "  \\int_0^3 \\sin(x^2)\\;dx = \\int_0^3 \\sum_{k=0}^\\infty \\frac{(-1)^k x^{4k+2}}{(2k+1)!}\\;dx = \\sum_{k=0}^\\infty \\frac{(-1)^k}{(2k+1)!}\\int_0^3 x^{4k+2}\\;dx\n",
        "$$\n",
        "\n",
        "So $\\displaystyle\\int_0^3 \\sin(x^2)\\;dx =\\left( \\sum_{k=0}^\\infty \\frac{(-1)^kx^{4k+3}}{(4k+3)(2k+1)!}\\right)\\bigg|_0^3 = \\sum_{k=0}^\\infty \\frac{(-1)^k3^{4k+3}}{(4k+3)(2k+1)!}$\n",
        "\n",
        "So we'll define the sequence of terms in this series. I'll do it for us, since it's pretty complicated.\n",
        "\n"
      ]
    },
    {
      "cell_type": "code",
      "metadata": {
        "id": "8UpBUnPKK13A"
      },
      "source": [
        "from scipy.special import factorial\n",
        "def TaylorTerms(n):\n",
        "  return ((-1)**n * 3**(4*n+3)) / ((4*n+3) * factorial(2*n+1))"
      ],
      "execution_count": null,
      "outputs": []
    },
    {
      "cell_type": "markdown",
      "metadata": {
        "id": "R0W5uhDcK6U7"
      },
      "source": [
        "Let's find the 15th partial sum, using the `sum()` function from the previous lab!\n"
      ]
    },
    {
      "cell_type": "code",
      "metadata": {
        "id": "UnkCxQVkK9-T"
      },
      "source": [
        "# Use this chunk to find the sum of the first 15 terms."
      ],
      "execution_count": null,
      "outputs": []
    },
    {
      "cell_type": "markdown",
      "metadata": {
        "id": "TkWNQ4e6K-m3"
      },
      "source": [
        "Now the question: which approximation is better?\n",
        "\n",
        "Notice: the Taylor series is an *alternating* series. That means we can use the remainder theorem to tell us how accurate this approximation is!\n",
        "\n",
        "**Recall:** for an alternating series $\\sum a_k$, the remainder $R_n$ is bounded by $a_{n+1}$ using $|R_n| \\leq |a_{n+1}|$.\n",
        "\n",
        "Let's use this idea: we are using the partial sum $S_{15}$ to approximate this area $\\int_0^3 \\sin(x^2)\\;dx$. Let's find an error bound by considering the 16th term of the Taylor series.\n",
        "\n"
      ]
    },
    {
      "cell_type": "code",
      "metadata": {
        "id": "SCF689MtLCUt"
      },
      "source": [
        "# Use this chunk of code to find the 16th term."
      ],
      "execution_count": null,
      "outputs": []
    },
    {
      "cell_type": "markdown",
      "metadata": {
        "id": "c9zheu-5LAeh"
      },
      "source": [
        "### Follow-Up Questions\n",
        "\n",
        "*Include your answers underneath each question.*\n",
        "\n",
        "--------\n",
        "\n",
        "1. *Which approximation was better? How did you know?*\n",
        "\n",
        "\n",
        "2. *Why might it be nice to know that the Riemann Sum/Taylor Series gives a better approximation?*\n",
        "\n",
        "\n",
        "---------\n",
        "\n",
        "## Parametric Curves\n",
        "\n",
        "Let's take a look at some fun parametric curves!\n",
        "\n",
        "We won't *do* too much with these curves, other than look at them.\n",
        "\n",
        "Let's plot a cool one!\n",
        "\n",
        "$$\n",
        "\\begin{array}{l}\n",
        "x(t) = \\sqrt{3} \\cos(2t) - \\cos(10t)\\sin(20t)\\\\\n",
        "y(t) = -\\sqrt{2}\\sin(2t)-\\sin(10t)\\sin(20t)\n",
        "\\end{array}\n",
        "\\text{ for } 0\\leq t <\\pi\n",
        "$$\n",
        "\n",
        "Here's a bit of code to help you add lots of arrows to your plot at once:\n",
        "\n",
        "    arrowPoints = np.linspace(0, np.pi, 6)\n",
        "    for a in arrowPoints:\n",
        "      plt.arrow(x(a), y(a), \n",
        "        x(a + 0.01) - x(a), \n",
        "        y(a + 0.01) - y(a), \n",
        "        shape = 'full', lw=0,\n",
        "        length_includes_head=True, head_width=0.2)\n",
        "\n",
        "You can put this in after your `plt.plot()` line, but before `plt.show()`. This will add 6 arrows, relatively evenly spaced out."
      ]
    },
    {
      "cell_type": "code",
      "metadata": {
        "id": "T0ir_Lay845X"
      },
      "source": [
        "# Use this chunk of code to define x(t) and y(t), and plot the parametric curve\n"
      ],
      "execution_count": null,
      "outputs": []
    },
    {
      "cell_type": "markdown",
      "metadata": {
        "id": "H3rYzKr_BfOD"
      },
      "source": [
        "Ok, one more.\n",
        "\n",
        "This one will be a little annoying to define, so hang in there.\n",
        "\n",
        "$$\n",
        "\\begin{array}{l}\n",
        "x(t) = 2.5 \\sin^2(-5t) \\cdot 2^{\\cos(\\cos(9.8t))}\\\\\n",
        "y(t) = 2.5 \\sin(\\sin(-5t))\\cos^2(9.8t)\n",
        "\\end{array}\n",
        "\\text{ for } -6\\leq t <6\n",
        "$$\n",
        "\n",
        "Plot this curve, but don't worry about putting arrows on it: it's really pretty to look at, and the arrows kind of clutter it up!"
      ]
    },
    {
      "cell_type": "code",
      "metadata": {
        "id": "TlTDHIs1CArP"
      },
      "source": [
        "# Use this chunk of code to define x(t) and y(t), and plot the parametric curve"
      ],
      "execution_count": null,
      "outputs": []
    },
    {
      "cell_type": "markdown",
      "metadata": {
        "id": "RBlgIcyKFxRG"
      },
      "source": [
        "### Follow-Up Questions\n",
        "\n",
        "*Include your answers underneath each question.*\n",
        "\n",
        "--------\n",
        "\n",
        "3. *Are these cool or what?! But seriously, which of these graphs do you like more? Why?*\n",
        "\n",
        "\n",
        "---------\n",
        "\n",
        "## Polar Curves\n",
        "\n",
        "Let's try a good polar one:\n",
        "\n",
        "$$ r = \\sin^2(2.4\\theta) + \\cos^4(2.4\\theta) $$\n",
        "\n",
        "Note that here $r\\geq 0$, since we have those even exponents on sine and cosine. So we won't have any weird issues with the radius being negative like we did in the Leading Example with the circle. Let's plot this for $0\\leq \\theta < 10\\pi$.\n"
      ]
    },
    {
      "cell_type": "code",
      "metadata": {
        "id": "YirPZAsrG6Kb"
      },
      "source": [
        "# Use this chunk of code to plot the polar curve on the interval."
      ],
      "execution_count": null,
      "outputs": []
    },
    {
      "cell_type": "markdown",
      "metadata": {
        "id": "ocOyQ547IPrW"
      },
      "source": [
        "Let's do one more: this one is my daughter's favorite. It's called the \"Butterfly Curve\" and we'll see why.\n",
        "\n",
        "Let's plot $r = e^{\\sin\\theta} - 2\\cos(4\\theta) + \\sin^5(\\theta / 12)$ for $0 \\leq \\theta < 20\\pi$. For this one, we'll need to use the little bit of code to force the plot to center at $r=0$:\n",
        "\n",
        "    ax = plt.subplot(111, projection='polar')\n",
        "    ax.set_rlim(0,6)\n",
        "\n",
        "Then you can use `plt.plot()` and go from there."
      ]
    },
    {
      "cell_type": "code",
      "metadata": {
        "id": "YCUE1P9yIj2h"
      },
      "source": [
        "# Use this chunk of code to plot the polar curve on the interval.\n",
        "def r(t):\n",
        "  return np.exp(np.sin(t)) - 2 * np.cos(4 * t) + np.sin(t / 12)**5\n",
        "\n",
        "theta = np.arange(0, 20 * np.pi, 0.01)\n",
        "\n",
        "ax = plt.subplot(111, projection='polar')\n",
        "ax.set_rlim(0,5.5)\n",
        "plt.plot(theta, r(theta))\n",
        "plt.show()"
      ],
      "execution_count": null,
      "outputs": []
    },
    {
      "cell_type": "markdown",
      "metadata": {
        "id": "ZagqZOXlJ3A3"
      },
      "source": [
        "### Follow-Up Questions\n",
        "\n",
        "*Include your answers underneath each question.*\n",
        "\n",
        "--------\n",
        "\n",
        "4. *Are these polar curves cool or what?! But seriously, which of these graphs do you like more? Why?*\n",
        "\n",
        "5. *What are your thoguhts on these labs? Did you enjoy them at all? Were there any parts of the labs that helped you understand something in the course? In general, leave a couple sentences of honest reflection on the lab assignments.*\n",
        "\n",
        "---------"
      ]
    }
  ]
}